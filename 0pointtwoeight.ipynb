{
  "nbformat": 4,
  "nbformat_minor": 0,
  "metadata": {
    "kernelspec": {
      "display_name": "Python 3",
      "language": "python",
      "name": "python3"
    },
    "language_info": {
      "codemirror_mode": {
        "name": "ipython",
        "version": 3
      },
      "file_extension": ".py",
      "mimetype": "text/x-python",
      "name": "python",
      "nbconvert_exporter": "python",
      "pygments_lexer": "ipython3",
      "version": "3.7.3"
    },
    "colab": {
      "name": "StartSomehere.ipynb",
      "provenance": [],
      "include_colab_link": true
    }
  },
  "cells": [
    {
      "cell_type": "markdown",
      "metadata": {
        "id": "view-in-github",
        "colab_type": "text"
      },
      "source": [
        "<a href=\"https://colab.research.google.com/github/ola-sumbo/Assignment-3-and-4-/blob/master/0pointtwoeight.ipynb\" target=\"_parent\"><img src=\"https://colab.research.google.com/assets/colab-badge.svg\" alt=\"Open In Colab\"/></a>"
      ]
    },
    {
      "cell_type": "markdown",
      "metadata": {
        "id": "HLKiGxGALgHH"
      },
      "source": [
        "# Import libraries "
      ]
    },
    {
      "cell_type": "code",
      "metadata": {
        "id": "E2G3wFk1LgHI"
      },
      "source": [
        "import pandas as pd\n",
        "import numpy as np\n",
        "import datetime\n",
        "\n",
        "import seaborn as sns\n",
        "import matplotlib.pyplot as plt\n",
        "\n",
        "from sklearn.model_selection import train_test_split"
      ],
      "execution_count": 2,
      "outputs": []
    },
    {
      "cell_type": "markdown",
      "metadata": {
        "id": "iU8NpKe2LgHJ"
      },
      "source": [
        "# Read data "
      ]
    },
    {
      "cell_type": "code",
      "metadata": {
        "colab": {
          "resources": {
            "http://localhost:8080/nbextensions/google.colab/files.js": {
              "data": "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",
              "ok": true,
              "headers": [
                [
                  "content-type",
                  "application/javascript"
                ]
              ],
              "status": 200,
              "status_text": "OK"
            }
          },
          "base_uri": "https://localhost:8080/",
          "height": 75
        },
        "id": "xnKGS5D6MKFB",
        "outputId": "eec47e02-85e1-4dac-e80e-4f57d1f3b974"
      },
      "source": [
        "from google.colab import files\n",
        "uploaded = files.upload()"
      ],
      "execution_count": 5,
      "outputs": [
        {
          "output_type": "display_data",
          "data": {
            "text/html": [
              "\n",
              "     <input type=\"file\" id=\"files-1dc050d4-e11c-4ee1-bafd-8d5049627d13\" name=\"files[]\" multiple disabled\n",
              "        style=\"border:none\" />\n",
              "     <output id=\"result-1dc050d4-e11c-4ee1-bafd-8d5049627d13\">\n",
              "      Upload widget is only available when the cell has been executed in the\n",
              "      current browser session. Please rerun this cell to enable.\n",
              "      </output>\n",
              "      <script src=\"/nbextensions/google.colab/files.js\"></script> "
            ],
            "text/plain": [
              "<IPython.core.display.HTML object>"
            ]
          },
          "metadata": {
            "tags": []
          }
        },
        {
          "output_type": "stream",
          "text": [
            "Saving SampleSubmission.csv to SampleSubmission.csv\n"
          ],
          "name": "stdout"
        }
      ]
    },
    {
      "cell_type": "code",
      "metadata": {
        "id": "uG7Ehkj8MXWs"
      },
      "source": [
        "train = pd.read_csv('/content/Train (1).csv')\n",
        "test = pd.read_csv('/content/Test (1).csv')\n",
        "ss = pd.read_csv('/content/SampleSubmission.csv')"
      ],
      "execution_count": 6,
      "outputs": []
    },
    {
      "cell_type": "markdown",
      "metadata": {
        "id": "MoyHCD3mLgHJ"
      },
      "source": [
        "# Simple EDA"
      ]
    },
    {
      "cell_type": "code",
      "metadata": {
        "colab": {
          "base_uri": "https://localhost:8080/",
          "height": 261
        },
        "id": "1ZDgSEztLgHK",
        "outputId": "97cbc6d8-906e-4f66-a3c4-1bc7b406695a"
      },
      "source": [
        "train.head()"
      ],
      "execution_count": 8,
      "outputs": [
        {
          "output_type": "execute_result",
          "data": {
            "text/html": [
              "<div>\n",
              "<style scoped>\n",
              "    .dataframe tbody tr th:only-of-type {\n",
              "        vertical-align: middle;\n",
              "    }\n",
              "\n",
              "    .dataframe tbody tr th {\n",
              "        vertical-align: top;\n",
              "    }\n",
              "\n",
              "    .dataframe thead th {\n",
              "        text-align: right;\n",
              "    }\n",
              "</style>\n",
              "<table border=\"1\" class=\"dataframe\">\n",
              "  <thead>\n",
              "    <tr style=\"text-align: right;\">\n",
              "      <th></th>\n",
              "      <th>ID</th>\n",
              "      <th>Policy Start Date</th>\n",
              "      <th>Policy End Date</th>\n",
              "      <th>Gender</th>\n",
              "      <th>Age</th>\n",
              "      <th>First Transaction Date</th>\n",
              "      <th>No_Pol</th>\n",
              "      <th>Car_Category</th>\n",
              "      <th>Subject_Car_Colour</th>\n",
              "      <th>Subject_Car_Make</th>\n",
              "      <th>LGA_Name</th>\n",
              "      <th>State</th>\n",
              "      <th>ProductName</th>\n",
              "      <th>target</th>\n",
              "    </tr>\n",
              "  </thead>\n",
              "  <tbody>\n",
              "    <tr>\n",
              "      <th>0</th>\n",
              "      <td>0040R73</td>\n",
              "      <td>2010-05-14</td>\n",
              "      <td>2011-05-13</td>\n",
              "      <td>Male</td>\n",
              "      <td>30</td>\n",
              "      <td>2010-05-14</td>\n",
              "      <td>1</td>\n",
              "      <td>Saloon</td>\n",
              "      <td>Black</td>\n",
              "      <td>TOYOTA</td>\n",
              "      <td>NaN</td>\n",
              "      <td>NaN</td>\n",
              "      <td>Car Classic</td>\n",
              "      <td>0</td>\n",
              "    </tr>\n",
              "    <tr>\n",
              "      <th>1</th>\n",
              "      <td>0046BNK</td>\n",
              "      <td>2010-11-29</td>\n",
              "      <td>2011-11-28</td>\n",
              "      <td>Female</td>\n",
              "      <td>79</td>\n",
              "      <td>2010-11-29</td>\n",
              "      <td>1</td>\n",
              "      <td>JEEP</td>\n",
              "      <td>Grey</td>\n",
              "      <td>TOYOTA</td>\n",
              "      <td>NaN</td>\n",
              "      <td>NaN</td>\n",
              "      <td>Car Classic</td>\n",
              "      <td>1</td>\n",
              "    </tr>\n",
              "    <tr>\n",
              "      <th>2</th>\n",
              "      <td>005QMC3</td>\n",
              "      <td>2010-03-21</td>\n",
              "      <td>2011-03-20</td>\n",
              "      <td>Male</td>\n",
              "      <td>43</td>\n",
              "      <td>2010-03-21</td>\n",
              "      <td>1</td>\n",
              "      <td>Saloon</td>\n",
              "      <td>Red</td>\n",
              "      <td>TOYOTA</td>\n",
              "      <td>NaN</td>\n",
              "      <td>NaN</td>\n",
              "      <td>Car Classic</td>\n",
              "      <td>0</td>\n",
              "    </tr>\n",
              "    <tr>\n",
              "      <th>3</th>\n",
              "      <td>0079OHW</td>\n",
              "      <td>2010-08-21</td>\n",
              "      <td>2011-08-20</td>\n",
              "      <td>Male</td>\n",
              "      <td>2</td>\n",
              "      <td>2010-08-21</td>\n",
              "      <td>1</td>\n",
              "      <td>NaN</td>\n",
              "      <td>NaN</td>\n",
              "      <td>NaN</td>\n",
              "      <td>NaN</td>\n",
              "      <td>NaN</td>\n",
              "      <td>CarSafe</td>\n",
              "      <td>0</td>\n",
              "    </tr>\n",
              "    <tr>\n",
              "      <th>4</th>\n",
              "      <td>00BRP63</td>\n",
              "      <td>2010-08-29</td>\n",
              "      <td>2010-12-31</td>\n",
              "      <td>Entity</td>\n",
              "      <td>20</td>\n",
              "      <td>2010-08-29</td>\n",
              "      <td>3</td>\n",
              "      <td>NaN</td>\n",
              "      <td>NaN</td>\n",
              "      <td>NaN</td>\n",
              "      <td>Lagos</td>\n",
              "      <td>Lagos</td>\n",
              "      <td>Muuve</td>\n",
              "      <td>1</td>\n",
              "    </tr>\n",
              "  </tbody>\n",
              "</table>\n",
              "</div>"
            ],
            "text/plain": [
              "        ID Policy Start Date Policy End Date  ...  State  ProductName target\n",
              "0  0040R73        2010-05-14      2011-05-13  ...    NaN  Car Classic      0\n",
              "1  0046BNK        2010-11-29      2011-11-28  ...    NaN  Car Classic      1\n",
              "2  005QMC3        2010-03-21      2011-03-20  ...    NaN  Car Classic      0\n",
              "3  0079OHW        2010-08-21      2011-08-20  ...    NaN      CarSafe      0\n",
              "4  00BRP63        2010-08-29      2010-12-31  ...  Lagos        Muuve      1\n",
              "\n",
              "[5 rows x 14 columns]"
            ]
          },
          "metadata": {
            "tags": []
          },
          "execution_count": 8
        }
      ]
    },
    {
      "cell_type": "code",
      "metadata": {
        "colab": {
          "base_uri": "https://localhost:8080/",
          "height": 331
        },
        "id": "aJca_1iCLgHN",
        "outputId": "4083f2b0-4a9c-46e7-dc91-506b36c7c4a8"
      },
      "source": [
        "test.head()"
      ],
      "execution_count": 9,
      "outputs": [
        {
          "output_type": "execute_result",
          "data": {
            "text/html": [
              "<div>\n",
              "<style scoped>\n",
              "    .dataframe tbody tr th:only-of-type {\n",
              "        vertical-align: middle;\n",
              "    }\n",
              "\n",
              "    .dataframe tbody tr th {\n",
              "        vertical-align: top;\n",
              "    }\n",
              "\n",
              "    .dataframe thead th {\n",
              "        text-align: right;\n",
              "    }\n",
              "</style>\n",
              "<table border=\"1\" class=\"dataframe\">\n",
              "  <thead>\n",
              "    <tr style=\"text-align: right;\">\n",
              "      <th></th>\n",
              "      <th>ID</th>\n",
              "      <th>Policy Start Date</th>\n",
              "      <th>Policy End Date</th>\n",
              "      <th>Gender</th>\n",
              "      <th>Age</th>\n",
              "      <th>First Transaction Date</th>\n",
              "      <th>No_Pol</th>\n",
              "      <th>Car_Category</th>\n",
              "      <th>Subject_Car_Colour</th>\n",
              "      <th>Subject_Car_Make</th>\n",
              "      <th>LGA_Name</th>\n",
              "      <th>State</th>\n",
              "      <th>ProductName</th>\n",
              "    </tr>\n",
              "  </thead>\n",
              "  <tbody>\n",
              "    <tr>\n",
              "      <th>0</th>\n",
              "      <td>009D84L</td>\n",
              "      <td>2010-04-24</td>\n",
              "      <td>2011-03-27</td>\n",
              "      <td>NO GENDER</td>\n",
              "      <td>25</td>\n",
              "      <td>2010-04-24</td>\n",
              "      <td>1</td>\n",
              "      <td>NaN</td>\n",
              "      <td>As Attached</td>\n",
              "      <td>Iveco</td>\n",
              "      <td>Victoria Island</td>\n",
              "      <td>Lagos</td>\n",
              "      <td>CVTP</td>\n",
              "    </tr>\n",
              "    <tr>\n",
              "      <th>1</th>\n",
              "      <td>01DO2EQ</td>\n",
              "      <td>2010-01-01</td>\n",
              "      <td>2010-12-31</td>\n",
              "      <td>NaN</td>\n",
              "      <td>120</td>\n",
              "      <td>2010-01-01</td>\n",
              "      <td>4</td>\n",
              "      <td>NaN</td>\n",
              "      <td>As Attached</td>\n",
              "      <td>TOYOTA</td>\n",
              "      <td>Victoria Island</td>\n",
              "      <td>Lagos</td>\n",
              "      <td>Muuve</td>\n",
              "    </tr>\n",
              "    <tr>\n",
              "      <th>2</th>\n",
              "      <td>01QM0NU</td>\n",
              "      <td>2010-10-23</td>\n",
              "      <td>2011-10-22</td>\n",
              "      <td>Female</td>\n",
              "      <td>46</td>\n",
              "      <td>2010-10-23</td>\n",
              "      <td>1</td>\n",
              "      <td>NaN</td>\n",
              "      <td>NaN</td>\n",
              "      <td>Ford</td>\n",
              "      <td>Abuja Municipal</td>\n",
              "      <td>Abuja-Municipal</td>\n",
              "      <td>Car Classic</td>\n",
              "    </tr>\n",
              "    <tr>\n",
              "      <th>3</th>\n",
              "      <td>024NJLZ</td>\n",
              "      <td>2010-10-14</td>\n",
              "      <td>2011-10-13</td>\n",
              "      <td>Male</td>\n",
              "      <td>32</td>\n",
              "      <td>2010-10-14</td>\n",
              "      <td>1</td>\n",
              "      <td>NaN</td>\n",
              "      <td>NaN</td>\n",
              "      <td>NaN</td>\n",
              "      <td>Kosofe</td>\n",
              "      <td>Benue</td>\n",
              "      <td>Car Classic</td>\n",
              "    </tr>\n",
              "    <tr>\n",
              "      <th>4</th>\n",
              "      <td>02BYET3</td>\n",
              "      <td>2010-09-16</td>\n",
              "      <td>2010-12-31</td>\n",
              "      <td>NaN</td>\n",
              "      <td>120</td>\n",
              "      <td>2010-09-16</td>\n",
              "      <td>4</td>\n",
              "      <td>NaN</td>\n",
              "      <td>NaN</td>\n",
              "      <td>TOYOTA</td>\n",
              "      <td>Victoria Island</td>\n",
              "      <td>Lagos</td>\n",
              "      <td>Muuve</td>\n",
              "    </tr>\n",
              "  </tbody>\n",
              "</table>\n",
              "</div>"
            ],
            "text/plain": [
              "        ID Policy Start Date  ...            State  ProductName\n",
              "0  009D84L        2010-04-24  ...            Lagos         CVTP\n",
              "1  01DO2EQ        2010-01-01  ...            Lagos        Muuve\n",
              "2  01QM0NU        2010-10-23  ...  Abuja-Municipal  Car Classic\n",
              "3  024NJLZ        2010-10-14  ...            Benue  Car Classic\n",
              "4  02BYET3        2010-09-16  ...            Lagos        Muuve\n",
              "\n",
              "[5 rows x 13 columns]"
            ]
          },
          "metadata": {
            "tags": []
          },
          "execution_count": 9
        }
      ]
    },
    {
      "cell_type": "code",
      "metadata": {
        "colab": {
          "base_uri": "https://localhost:8080/",
          "height": 206
        },
        "id": "mB3C0AeILgHN",
        "outputId": "9aef1af1-9b3b-48d3-9476-461f106cb910"
      },
      "source": [
        "ss.head()"
      ],
      "execution_count": 10,
      "outputs": [
        {
          "output_type": "execute_result",
          "data": {
            "text/html": [
              "<div>\n",
              "<style scoped>\n",
              "    .dataframe tbody tr th:only-of-type {\n",
              "        vertical-align: middle;\n",
              "    }\n",
              "\n",
              "    .dataframe tbody tr th {\n",
              "        vertical-align: top;\n",
              "    }\n",
              "\n",
              "    .dataframe thead th {\n",
              "        text-align: right;\n",
              "    }\n",
              "</style>\n",
              "<table border=\"1\" class=\"dataframe\">\n",
              "  <thead>\n",
              "    <tr style=\"text-align: right;\">\n",
              "      <th></th>\n",
              "      <th>ID</th>\n",
              "      <th>target</th>\n",
              "    </tr>\n",
              "  </thead>\n",
              "  <tbody>\n",
              "    <tr>\n",
              "      <th>0</th>\n",
              "      <td>009D84L</td>\n",
              "      <td>0</td>\n",
              "    </tr>\n",
              "    <tr>\n",
              "      <th>1</th>\n",
              "      <td>01DO2EQ</td>\n",
              "      <td>0</td>\n",
              "    </tr>\n",
              "    <tr>\n",
              "      <th>2</th>\n",
              "      <td>01QM0NU</td>\n",
              "      <td>0</td>\n",
              "    </tr>\n",
              "    <tr>\n",
              "      <th>3</th>\n",
              "      <td>024NJLZ</td>\n",
              "      <td>0</td>\n",
              "    </tr>\n",
              "    <tr>\n",
              "      <th>4</th>\n",
              "      <td>02BYET3</td>\n",
              "      <td>0</td>\n",
              "    </tr>\n",
              "  </tbody>\n",
              "</table>\n",
              "</div>"
            ],
            "text/plain": [
              "        ID  target\n",
              "0  009D84L       0\n",
              "1  01DO2EQ       0\n",
              "2  01QM0NU       0\n",
              "3  024NJLZ       0\n",
              "4  02BYET3       0"
            ]
          },
          "metadata": {
            "tags": []
          },
          "execution_count": 10
        }
      ]
    },
    {
      "cell_type": "code",
      "metadata": {
        "colab": {
          "base_uri": "https://localhost:8080/"
        },
        "id": "17kPkHiWLgHQ",
        "outputId": "c8308473-dbf6-4f8f-bafb-f14adc93c970"
      },
      "source": [
        "print('Train shape:',train.shape,'\\nTest shape:', test.shape, '\\nsamplesubmission shape:',ss.shape)"
      ],
      "execution_count": 11,
      "outputs": [
        {
          "output_type": "stream",
          "text": [
            "Train shape: (12079, 14) \n",
            "Test shape: (5177, 13) \n",
            "samplesubmission shape: (5177, 2)\n"
          ],
          "name": "stdout"
        }
      ]
    },
    {
      "cell_type": "code",
      "metadata": {
        "colab": {
          "base_uri": "https://localhost:8080/"
        },
        "id": "raFKhPLmLgHQ",
        "outputId": "295e1ed1-58ee-4ae8-db51-761836443cce"
      },
      "source": [
        "train.info()"
      ],
      "execution_count": 12,
      "outputs": [
        {
          "output_type": "stream",
          "text": [
            "<class 'pandas.core.frame.DataFrame'>\n",
            "RangeIndex: 12079 entries, 0 to 12078\n",
            "Data columns (total 14 columns):\n",
            " #   Column                  Non-Null Count  Dtype \n",
            "---  ------                  --------------  ----- \n",
            " 0   ID                      12079 non-null  object\n",
            " 1   Policy Start Date       12079 non-null  object\n",
            " 2   Policy End Date         12079 non-null  object\n",
            " 3   Gender                  11720 non-null  object\n",
            " 4   Age                     12079 non-null  int64 \n",
            " 5   First Transaction Date  12079 non-null  object\n",
            " 6   No_Pol                  12079 non-null  int64 \n",
            " 7   Car_Category            8341 non-null   object\n",
            " 8   Subject_Car_Colour      5117 non-null   object\n",
            " 9   Subject_Car_Make        9603 non-null   object\n",
            " 10  LGA_Name                5603 non-null   object\n",
            " 11  State                   5591 non-null   object\n",
            " 12  ProductName             12079 non-null  object\n",
            " 13  target                  12079 non-null  int64 \n",
            "dtypes: int64(3), object(11)\n",
            "memory usage: 1.3+ MB\n"
          ],
          "name": "stdout"
        }
      ]
    },
    {
      "cell_type": "code",
      "metadata": {
        "colab": {
          "base_uri": "https://localhost:8080/"
        },
        "id": "9wIjH1mJLgH5",
        "outputId": "b0402dbd-bb83-4339-bb9f-43fc9c8756de"
      },
      "source": [
        "test.info()"
      ],
      "execution_count": 13,
      "outputs": [
        {
          "output_type": "stream",
          "text": [
            "<class 'pandas.core.frame.DataFrame'>\n",
            "RangeIndex: 5177 entries, 0 to 5176\n",
            "Data columns (total 13 columns):\n",
            " #   Column                  Non-Null Count  Dtype \n",
            "---  ------                  --------------  ----- \n",
            " 0   ID                      5177 non-null   object\n",
            " 1   Policy Start Date       5177 non-null   object\n",
            " 2   Policy End Date         5177 non-null   object\n",
            " 3   Gender                  5021 non-null   object\n",
            " 4   Age                     5177 non-null   int64 \n",
            " 5   First Transaction Date  5177 non-null   object\n",
            " 6   No_Pol                  5177 non-null   int64 \n",
            " 7   Car_Category            3539 non-null   object\n",
            " 8   Subject_Car_Colour      2172 non-null   object\n",
            " 9   Subject_Car_Make        4116 non-null   object\n",
            " 10  LGA_Name                2395 non-null   object\n",
            " 11  State                   2389 non-null   object\n",
            " 12  ProductName             5177 non-null   object\n",
            "dtypes: int64(2), object(11)\n",
            "memory usage: 525.9+ KB\n"
          ],
          "name": "stdout"
        }
      ]
    },
    {
      "cell_type": "markdown",
      "metadata": {
        "id": "3KmiAwa5LgH6"
      },
      "source": [
        "# Since the ratio of categorical variables to numerical variable is high, consider combining both train and test for easy preproccessing "
      ]
    },
    {
      "cell_type": "code",
      "metadata": {
        "colab": {
          "base_uri": "https://localhost:8080/"
        },
        "id": "ep-HUVA-LgH6",
        "outputId": "f58b34a8-7a34-47a4-ee5e-f76bc96b8d40"
      },
      "source": [
        "# join train and test together\n",
        "ntrain = train.shape[0]\n",
        "ntest = test.shape[0]\n",
        "\n",
        "all_data = pd.concat((train, test)).reset_index(drop=True)\n",
        "print(\"all_data size is : {}\".format(all_data.shape))"
      ],
      "execution_count": 14,
      "outputs": [
        {
          "output_type": "stream",
          "text": [
            "all_data size is : (17256, 14)\n"
          ],
          "name": "stdout"
        }
      ]
    },
    {
      "cell_type": "code",
      "metadata": {
        "colab": {
          "base_uri": "https://localhost:8080/",
          "height": 278
        },
        "id": "2aydCJKNLgH6",
        "outputId": "6a9ae31e-47b0-454e-e3b0-b17e375196d5"
      },
      "source": [
        "all_data.tail()"
      ],
      "execution_count": 15,
      "outputs": [
        {
          "output_type": "execute_result",
          "data": {
            "text/html": [
              "<div>\n",
              "<style scoped>\n",
              "    .dataframe tbody tr th:only-of-type {\n",
              "        vertical-align: middle;\n",
              "    }\n",
              "\n",
              "    .dataframe tbody tr th {\n",
              "        vertical-align: top;\n",
              "    }\n",
              "\n",
              "    .dataframe thead th {\n",
              "        text-align: right;\n",
              "    }\n",
              "</style>\n",
              "<table border=\"1\" class=\"dataframe\">\n",
              "  <thead>\n",
              "    <tr style=\"text-align: right;\">\n",
              "      <th></th>\n",
              "      <th>ID</th>\n",
              "      <th>Policy Start Date</th>\n",
              "      <th>Policy End Date</th>\n",
              "      <th>Gender</th>\n",
              "      <th>Age</th>\n",
              "      <th>First Transaction Date</th>\n",
              "      <th>No_Pol</th>\n",
              "      <th>Car_Category</th>\n",
              "      <th>Subject_Car_Colour</th>\n",
              "      <th>Subject_Car_Make</th>\n",
              "      <th>LGA_Name</th>\n",
              "      <th>State</th>\n",
              "      <th>ProductName</th>\n",
              "      <th>target</th>\n",
              "    </tr>\n",
              "  </thead>\n",
              "  <tbody>\n",
              "    <tr>\n",
              "      <th>17251</th>\n",
              "      <td>ZYXX5AF</td>\n",
              "      <td>2010-07-18</td>\n",
              "      <td>2011-07-17</td>\n",
              "      <td>Male</td>\n",
              "      <td>48</td>\n",
              "      <td>2010-07-18</td>\n",
              "      <td>1</td>\n",
              "      <td>Saloon</td>\n",
              "      <td>NaN</td>\n",
              "      <td>Honda</td>\n",
              "      <td>NaN</td>\n",
              "      <td>NaN</td>\n",
              "      <td>CarSafe</td>\n",
              "      <td>NaN</td>\n",
              "    </tr>\n",
              "    <tr>\n",
              "      <th>17252</th>\n",
              "      <td>ZYYOZ5L</td>\n",
              "      <td>2010-12-04</td>\n",
              "      <td>2011-12-03</td>\n",
              "      <td>NaN</td>\n",
              "      <td>50</td>\n",
              "      <td>2010-12-04</td>\n",
              "      <td>1</td>\n",
              "      <td>NaN</td>\n",
              "      <td>NaN</td>\n",
              "      <td>NaN</td>\n",
              "      <td>Victoria Island</td>\n",
              "      <td>Lagos</td>\n",
              "      <td>Car Classic</td>\n",
              "      <td>NaN</td>\n",
              "    </tr>\n",
              "    <tr>\n",
              "      <th>17253</th>\n",
              "      <td>ZZ1GTKD</td>\n",
              "      <td>2010-09-24</td>\n",
              "      <td>2011-09-23</td>\n",
              "      <td>Male</td>\n",
              "      <td>1</td>\n",
              "      <td>2010-09-24</td>\n",
              "      <td>1</td>\n",
              "      <td>NaN</td>\n",
              "      <td>NaN</td>\n",
              "      <td>NaN</td>\n",
              "      <td>NaN</td>\n",
              "      <td>NaN</td>\n",
              "      <td>CarSafe</td>\n",
              "      <td>NaN</td>\n",
              "    </tr>\n",
              "    <tr>\n",
              "      <th>17254</th>\n",
              "      <td>ZZDXQSI</td>\n",
              "      <td>2010-07-17</td>\n",
              "      <td>2011-07-16</td>\n",
              "      <td>Female</td>\n",
              "      <td>52</td>\n",
              "      <td>2010-07-17</td>\n",
              "      <td>1</td>\n",
              "      <td>Saloon</td>\n",
              "      <td>Grey</td>\n",
              "      <td>TOYOTA</td>\n",
              "      <td>NaN</td>\n",
              "      <td>NaN</td>\n",
              "      <td>Car Classic</td>\n",
              "      <td>NaN</td>\n",
              "    </tr>\n",
              "    <tr>\n",
              "      <th>17255</th>\n",
              "      <td>ZZYTLV1</td>\n",
              "      <td>2010-07-17</td>\n",
              "      <td>2011-07-16</td>\n",
              "      <td>Male</td>\n",
              "      <td>68</td>\n",
              "      <td>2010-07-17</td>\n",
              "      <td>1</td>\n",
              "      <td>Saloon</td>\n",
              "      <td>NaN</td>\n",
              "      <td>Peugeot</td>\n",
              "      <td>NaN</td>\n",
              "      <td>NaN</td>\n",
              "      <td>CarSafe</td>\n",
              "      <td>NaN</td>\n",
              "    </tr>\n",
              "  </tbody>\n",
              "</table>\n",
              "</div>"
            ],
            "text/plain": [
              "            ID Policy Start Date Policy End Date  ...  State  ProductName target\n",
              "17251  ZYXX5AF        2010-07-18      2011-07-17  ...    NaN      CarSafe    NaN\n",
              "17252  ZYYOZ5L        2010-12-04      2011-12-03  ...  Lagos  Car Classic    NaN\n",
              "17253  ZZ1GTKD        2010-09-24      2011-09-23  ...    NaN      CarSafe    NaN\n",
              "17254  ZZDXQSI        2010-07-17      2011-07-16  ...    NaN  Car Classic    NaN\n",
              "17255  ZZYTLV1        2010-07-17      2011-07-16  ...    NaN      CarSafe    NaN\n",
              "\n",
              "[5 rows x 14 columns]"
            ]
          },
          "metadata": {
            "tags": []
          },
          "execution_count": 15
        }
      ]
    },
    {
      "cell_type": "code",
      "metadata": {
        "colab": {
          "base_uri": "https://localhost:8080/"
        },
        "id": "yuC6-4FZLgH7",
        "outputId": "dfe5ba78-7904-4629-d24b-49b6be8954f0"
      },
      "source": [
        "date_col = ['Policy Start Date','Policy End Date','First Transaction Date']\n",
        "num_col = ['Age']\n",
        "cat_col = [col for col in test.columns if col not in date_col+num_col]\n",
        "cat_col"
      ],
      "execution_count": 16,
      "outputs": [
        {
          "output_type": "execute_result",
          "data": {
            "text/plain": [
              "['ID',\n",
              " 'Gender',\n",
              " 'No_Pol',\n",
              " 'Car_Category',\n",
              " 'Subject_Car_Colour',\n",
              " 'Subject_Car_Make',\n",
              " 'LGA_Name',\n",
              " 'State',\n",
              " 'ProductName']"
            ]
          },
          "metadata": {
            "tags": []
          },
          "execution_count": 16
        }
      ]
    },
    {
      "cell_type": "code",
      "metadata": {
        "id": "xabYEG9DLgH7"
      },
      "source": [
        "cat_col.remove('ID')"
      ],
      "execution_count": 17,
      "outputs": []
    },
    {
      "cell_type": "code",
      "metadata": {
        "colab": {
          "base_uri": "https://localhost:8080/",
          "height": 300
        },
        "id": "dyPnZbEkLgH7",
        "outputId": "4aa2286e-7a7d-42fe-b9c3-df02dfd58faa"
      },
      "source": [
        "train.describe()"
      ],
      "execution_count": 18,
      "outputs": [
        {
          "output_type": "execute_result",
          "data": {
            "text/html": [
              "<div>\n",
              "<style scoped>\n",
              "    .dataframe tbody tr th:only-of-type {\n",
              "        vertical-align: middle;\n",
              "    }\n",
              "\n",
              "    .dataframe tbody tr th {\n",
              "        vertical-align: top;\n",
              "    }\n",
              "\n",
              "    .dataframe thead th {\n",
              "        text-align: right;\n",
              "    }\n",
              "</style>\n",
              "<table border=\"1\" class=\"dataframe\">\n",
              "  <thead>\n",
              "    <tr style=\"text-align: right;\">\n",
              "      <th></th>\n",
              "      <th>Age</th>\n",
              "      <th>No_Pol</th>\n",
              "      <th>target</th>\n",
              "    </tr>\n",
              "  </thead>\n",
              "  <tbody>\n",
              "    <tr>\n",
              "      <th>count</th>\n",
              "      <td>12079.000000</td>\n",
              "      <td>12079.000000</td>\n",
              "      <td>12079.000000</td>\n",
              "    </tr>\n",
              "    <tr>\n",
              "      <th>mean</th>\n",
              "      <td>42.234539</td>\n",
              "      <td>1.307227</td>\n",
              "      <td>0.120457</td>\n",
              "    </tr>\n",
              "    <tr>\n",
              "      <th>std</th>\n",
              "      <td>97.492565</td>\n",
              "      <td>0.733085</td>\n",
              "      <td>0.325509</td>\n",
              "    </tr>\n",
              "    <tr>\n",
              "      <th>min</th>\n",
              "      <td>-6099.000000</td>\n",
              "      <td>1.000000</td>\n",
              "      <td>0.000000</td>\n",
              "    </tr>\n",
              "    <tr>\n",
              "      <th>25%</th>\n",
              "      <td>35.000000</td>\n",
              "      <td>1.000000</td>\n",
              "      <td>0.000000</td>\n",
              "    </tr>\n",
              "    <tr>\n",
              "      <th>50%</th>\n",
              "      <td>41.000000</td>\n",
              "      <td>1.000000</td>\n",
              "      <td>0.000000</td>\n",
              "    </tr>\n",
              "    <tr>\n",
              "      <th>75%</th>\n",
              "      <td>50.000000</td>\n",
              "      <td>1.000000</td>\n",
              "      <td>0.000000</td>\n",
              "    </tr>\n",
              "    <tr>\n",
              "      <th>max</th>\n",
              "      <td>320.000000</td>\n",
              "      <td>10.000000</td>\n",
              "      <td>1.000000</td>\n",
              "    </tr>\n",
              "  </tbody>\n",
              "</table>\n",
              "</div>"
            ],
            "text/plain": [
              "                Age        No_Pol        target\n",
              "count  12079.000000  12079.000000  12079.000000\n",
              "mean      42.234539      1.307227      0.120457\n",
              "std       97.492565      0.733085      0.325509\n",
              "min    -6099.000000      1.000000      0.000000\n",
              "25%       35.000000      1.000000      0.000000\n",
              "50%       41.000000      1.000000      0.000000\n",
              "75%       50.000000      1.000000      0.000000\n",
              "max      320.000000     10.000000      1.000000"
            ]
          },
          "metadata": {
            "tags": []
          },
          "execution_count": 18
        }
      ]
    },
    {
      "cell_type": "code",
      "metadata": {
        "colab": {
          "base_uri": "https://localhost:8080/",
          "height": 300
        },
        "id": "CxsQ7hS3LgH8",
        "outputId": "aeb63609-43ab-4068-d627-c65c55ce5c77"
      },
      "source": [
        "test.describe()"
      ],
      "execution_count": 19,
      "outputs": [
        {
          "output_type": "execute_result",
          "data": {
            "text/html": [
              "<div>\n",
              "<style scoped>\n",
              "    .dataframe tbody tr th:only-of-type {\n",
              "        vertical-align: middle;\n",
              "    }\n",
              "\n",
              "    .dataframe tbody tr th {\n",
              "        vertical-align: top;\n",
              "    }\n",
              "\n",
              "    .dataframe thead th {\n",
              "        text-align: right;\n",
              "    }\n",
              "</style>\n",
              "<table border=\"1\" class=\"dataframe\">\n",
              "  <thead>\n",
              "    <tr style=\"text-align: right;\">\n",
              "      <th></th>\n",
              "      <th>Age</th>\n",
              "      <th>No_Pol</th>\n",
              "    </tr>\n",
              "  </thead>\n",
              "  <tbody>\n",
              "    <tr>\n",
              "      <th>count</th>\n",
              "      <td>5177.000000</td>\n",
              "      <td>5177.000000</td>\n",
              "    </tr>\n",
              "    <tr>\n",
              "      <th>mean</th>\n",
              "      <td>43.710257</td>\n",
              "      <td>1.308287</td>\n",
              "    </tr>\n",
              "    <tr>\n",
              "      <th>std</th>\n",
              "      <td>22.439018</td>\n",
              "      <td>0.712004</td>\n",
              "    </tr>\n",
              "    <tr>\n",
              "      <th>min</th>\n",
              "      <td>-76.000000</td>\n",
              "      <td>1.000000</td>\n",
              "    </tr>\n",
              "    <tr>\n",
              "      <th>25%</th>\n",
              "      <td>34.000000</td>\n",
              "      <td>1.000000</td>\n",
              "    </tr>\n",
              "    <tr>\n",
              "      <th>50%</th>\n",
              "      <td>40.000000</td>\n",
              "      <td>1.000000</td>\n",
              "    </tr>\n",
              "    <tr>\n",
              "      <th>75%</th>\n",
              "      <td>50.000000</td>\n",
              "      <td>1.000000</td>\n",
              "    </tr>\n",
              "    <tr>\n",
              "      <th>max</th>\n",
              "      <td>320.000000</td>\n",
              "      <td>10.000000</td>\n",
              "    </tr>\n",
              "  </tbody>\n",
              "</table>\n",
              "</div>"
            ],
            "text/plain": [
              "               Age       No_Pol\n",
              "count  5177.000000  5177.000000\n",
              "mean     43.710257     1.308287\n",
              "std      22.439018     0.712004\n",
              "min     -76.000000     1.000000\n",
              "25%      34.000000     1.000000\n",
              "50%      40.000000     1.000000\n",
              "75%      50.000000     1.000000\n",
              "max     320.000000    10.000000"
            ]
          },
          "metadata": {
            "tags": []
          },
          "execution_count": 19
        }
      ]
    },
    {
      "cell_type": "code",
      "metadata": {
        "colab": {
          "base_uri": "https://localhost:8080/",
          "height": 354
        },
        "id": "6uxxzewpLgH8",
        "outputId": "e47c383e-f571-4d33-fceb-9499775bbaa4"
      },
      "source": [
        "sns.countplot(train.target)"
      ],
      "execution_count": 20,
      "outputs": [
        {
          "output_type": "stream",
          "text": [
            "/usr/local/lib/python3.6/dist-packages/seaborn/_decorators.py:43: FutureWarning: Pass the following variable as a keyword arg: x. From version 0.12, the only valid positional argument will be `data`, and passing other arguments without an explicit keyword will result in an error or misinterpretation.\n",
            "  FutureWarning\n"
          ],
          "name": "stderr"
        },
        {
          "output_type": "execute_result",
          "data": {
            "text/plain": [
              "<matplotlib.axes._subplots.AxesSubplot at 0x7f83a2c27208>"
            ]
          },
          "metadata": {
            "tags": []
          },
          "execution_count": 20
        },
        {
          "output_type": "display_data",
          "data": {
            "image/png": "[encoded data removed]",
            "text/plain": [
              "<Figure size 432x288 with 1 Axes>"
            ]
          },
          "metadata": {
            "tags": [],
            "needs_background": "light"
          }
        }
      ]
    },
    {
      "cell_type": "markdown",
      "metadata": {
        "id": "38u5oFe4LgH-"
      },
      "source": [
        "The dataset is is skewed towards class 0, consider balancing the dataset "
      ]
    },
    {
      "cell_type": "code",
      "metadata": {
        "colab": {
          "base_uri": "https://localhost:8080/"
        },
        "id": "tWb8Zn9dLgH-",
        "outputId": "d0cf34a6-5de0-4182-e0f9-611891072a77"
      },
      "source": [
        "print(\"Are There Missing value in train? :\",train.isnull().any().any())\n",
        "print((train.isnull().sum()/train.shape[0])*100)"
      ],
      "execution_count": 21,
      "outputs": [
        {
          "output_type": "stream",
          "text": [
            "Are There Missing value in train? : True\n",
            "ID                         0.000000\n",
            "Policy Start Date          0.000000\n",
            "Policy End Date            0.000000\n",
            "Gender                     2.972100\n",
            "Age                        0.000000\n",
            "First Transaction Date     0.000000\n",
            "No_Pol                     0.000000\n",
            "Car_Category              30.946270\n",
            "Subject_Car_Colour        57.637222\n",
            "Subject_Car_Make          20.498386\n",
            "LGA_Name                  53.613710\n",
            "State                     53.713056\n",
            "ProductName                0.000000\n",
            "target                     0.000000\n",
            "dtype: float64\n"
          ],
          "name": "stdout"
        }
      ]
    },
    {
      "cell_type": "code",
      "metadata": {
        "colab": {
          "base_uri": "https://localhost:8080/"
        },
        "id": "BMhY5cVsLgH-",
        "outputId": "e5ebbc35-f524-4c8b-95d3-cdeaaedff7dc"
      },
      "source": [
        "print(\"Are There Missing value in test? :\",test.isnull().any().any())\n",
        "print((test.isnull().sum()/test.shape[0])*100)"
      ],
      "execution_count": 22,
      "outputs": [
        {
          "output_type": "stream",
          "text": [
            "Are There Missing value in test? : True\n",
            "ID                         0.000000\n",
            "Policy Start Date          0.000000\n",
            "Policy End Date            0.000000\n",
            "Gender                     3.013328\n",
            "Age                        0.000000\n",
            "First Transaction Date     0.000000\n",
            "No_Pol                     0.000000\n",
            "Car_Category              31.639946\n",
            "Subject_Car_Colour        58.045200\n",
            "Subject_Car_Make          20.494495\n",
            "LGA_Name                  53.737686\n",
            "State                     53.853583\n",
            "ProductName                0.000000\n",
            "dtype: float64\n"
          ],
          "name": "stdout"
        }
      ]
    },
    {
      "cell_type": "markdown",
      "metadata": {
        "id": "LLg4NEnQLgH-"
      },
      "source": [
        "Remember to handle the missing values "
      ]
    },
    {
      "cell_type": "code",
      "metadata": {
        "id": "vyyZ2xLiLgH-",
        "outputId": "11dbd945-d453-4afb-9c50-43210c73ed60"
      },
      "source": [
        "f,ax=plt.subplots(figsize=(8,8))\n",
        "sns.heatmap(train.corr(),annot=True,linewidth=.5,fmt='.1f',ax=ax)\n",
        "plt.show()"
      ],
      "execution_count": null,
      "outputs": [
        {
          "output_type": "display_data",
          "data": {
            "image/png": "[encoded data removed]",
            "text/plain": [
              "<Figure size 576x576 with 2 Axes>"
            ]
          },
          "metadata": {
            "tags": [],
            "needs_background": "light"
          }
        }
      ]
    },
    {
      "cell_type": "markdown",
      "metadata": {
        "id": "krQ7BSyYLgH-"
      },
      "source": [
        "### Correlation might not be a best measure for this dataset since there are more categorical features"
      ]
    },
    {
      "cell_type": "code",
      "metadata": {
        "colab": {
          "base_uri": "https://localhost:8080/",
          "height": 261
        },
        "id": "UE19aqksLgH-",
        "outputId": "7050f069-d4c9-46f9-e0b0-49899850c411"
      },
      "source": [
        "all_data.head()"
      ],
      "execution_count": 23,
      "outputs": [
        {
          "output_type": "execute_result",
          "data": {
            "text/html": [
              "<div>\n",
              "<style scoped>\n",
              "    .dataframe tbody tr th:only-of-type {\n",
              "        vertical-align: middle;\n",
              "    }\n",
              "\n",
              "    .dataframe tbody tr th {\n",
              "        vertical-align: top;\n",
              "    }\n",
              "\n",
              "    .dataframe thead th {\n",
              "        text-align: right;\n",
              "    }\n",
              "</style>\n",
              "<table border=\"1\" class=\"dataframe\">\n",
              "  <thead>\n",
              "    <tr style=\"text-align: right;\">\n",
              "      <th></th>\n",
              "      <th>ID</th>\n",
              "      <th>Policy Start Date</th>\n",
              "      <th>Policy End Date</th>\n",
              "      <th>Gender</th>\n",
              "      <th>Age</th>\n",
              "      <th>First Transaction Date</th>\n",
              "      <th>No_Pol</th>\n",
              "      <th>Car_Category</th>\n",
              "      <th>Subject_Car_Colour</th>\n",
              "      <th>Subject_Car_Make</th>\n",
              "      <th>LGA_Name</th>\n",
              "      <th>State</th>\n",
              "      <th>ProductName</th>\n",
              "      <th>target</th>\n",
              "    </tr>\n",
              "  </thead>\n",
              "  <tbody>\n",
              "    <tr>\n",
              "      <th>0</th>\n",
              "      <td>0040R73</td>\n",
              "      <td>2010-05-14</td>\n",
              "      <td>2011-05-13</td>\n",
              "      <td>Male</td>\n",
              "      <td>30</td>\n",
              "      <td>2010-05-14</td>\n",
              "      <td>1</td>\n",
              "      <td>Saloon</td>\n",
              "      <td>Black</td>\n",
              "      <td>TOYOTA</td>\n",
              "      <td>NaN</td>\n",
              "      <td>NaN</td>\n",
              "      <td>Car Classic</td>\n",
              "      <td>0.0</td>\n",
              "    </tr>\n",
              "    <tr>\n",
              "      <th>1</th>\n",
              "      <td>0046BNK</td>\n",
              "      <td>2010-11-29</td>\n",
              "      <td>2011-11-28</td>\n",
              "      <td>Female</td>\n",
              "      <td>79</td>\n",
              "      <td>2010-11-29</td>\n",
              "      <td>1</td>\n",
              "      <td>JEEP</td>\n",
              "      <td>Grey</td>\n",
              "      <td>TOYOTA</td>\n",
              "      <td>NaN</td>\n",
              "      <td>NaN</td>\n",
              "      <td>Car Classic</td>\n",
              "      <td>1.0</td>\n",
              "    </tr>\n",
              "    <tr>\n",
              "      <th>2</th>\n",
              "      <td>005QMC3</td>\n",
              "      <td>2010-03-21</td>\n",
              "      <td>2011-03-20</td>\n",
              "      <td>Male</td>\n",
              "      <td>43</td>\n",
              "      <td>2010-03-21</td>\n",
              "      <td>1</td>\n",
              "      <td>Saloon</td>\n",
              "      <td>Red</td>\n",
              "      <td>TOYOTA</td>\n",
              "      <td>NaN</td>\n",
              "      <td>NaN</td>\n",
              "      <td>Car Classic</td>\n",
              "      <td>0.0</td>\n",
              "    </tr>\n",
              "    <tr>\n",
              "      <th>3</th>\n",
              "      <td>0079OHW</td>\n",
              "      <td>2010-08-21</td>\n",
              "      <td>2011-08-20</td>\n",
              "      <td>Male</td>\n",
              "      <td>2</td>\n",
              "      <td>2010-08-21</td>\n",
              "      <td>1</td>\n",
              "      <td>NaN</td>\n",
              "      <td>NaN</td>\n",
              "      <td>NaN</td>\n",
              "      <td>NaN</td>\n",
              "      <td>NaN</td>\n",
              "      <td>CarSafe</td>\n",
              "      <td>0.0</td>\n",
              "    </tr>\n",
              "    <tr>\n",
              "      <th>4</th>\n",
              "      <td>00BRP63</td>\n",
              "      <td>2010-08-29</td>\n",
              "      <td>2010-12-31</td>\n",
              "      <td>Entity</td>\n",
              "      <td>20</td>\n",
              "      <td>2010-08-29</td>\n",
              "      <td>3</td>\n",
              "      <td>NaN</td>\n",
              "      <td>NaN</td>\n",
              "      <td>NaN</td>\n",
              "      <td>Lagos</td>\n",
              "      <td>Lagos</td>\n",
              "      <td>Muuve</td>\n",
              "      <td>1.0</td>\n",
              "    </tr>\n",
              "  </tbody>\n",
              "</table>\n",
              "</div>"
            ],
            "text/plain": [
              "        ID Policy Start Date Policy End Date  ...  State  ProductName target\n",
              "0  0040R73        2010-05-14      2011-05-13  ...    NaN  Car Classic    0.0\n",
              "1  0046BNK        2010-11-29      2011-11-28  ...    NaN  Car Classic    1.0\n",
              "2  005QMC3        2010-03-21      2011-03-20  ...    NaN  Car Classic    0.0\n",
              "3  0079OHW        2010-08-21      2011-08-20  ...    NaN      CarSafe    0.0\n",
              "4  00BRP63        2010-08-29      2010-12-31  ...  Lagos        Muuve    1.0\n",
              "\n",
              "[5 rows x 14 columns]"
            ]
          },
          "metadata": {
            "tags": []
          },
          "execution_count": 23
        }
      ]
    },
    {
      "cell_type": "code",
      "metadata": {
        "id": "J0lXfrl2LgH_"
      },
      "source": [
        "def check_categorical_relationship(cat_col,y_col,df):\n",
        "    for feat in cat_col:\n",
        "        plt.figure(figsize=(20,5))\n",
        "        sns.barplot(df[feat],df[y_col])\n",
        "        plt.show()\n",
        "        print(\"\\n \\n \\n \")"
      ],
      "execution_count": 24,
      "outputs": []
    },
    {
      "cell_type": "code",
      "metadata": {
        "id": "TdGqiGJSLgH_",
        "outputId": "0664187e-e201-422c-bce2-a6e88482594f"
      },
      "source": [
        "check_categorical_relationship(cat_col,'Age',all_data)"
      ],
      "execution_count": null,
      "outputs": [
        {
          "output_type": "display_data",
          "data": {
            "image/png": "[encoded data removed]",
            "text/plain": [
              "<Figure size 1440x360 with 1 Axes>"
            ]
          },
          "metadata": {
            "tags": [],
            "needs_background": "light"
          }
        },
        {
          "output_type": "stream",
          "text": [
            "\n",
            " \n",
            " \n",
            " \n"
          ],
          "name": "stdout"
        },
        {
          "output_type": "display_data",
          "data": {
            "image/png": "[encoded data removed]",
            "text/plain": [
              "<Figure size 1440x360 with 1 Axes>"
            ]
          },
          "metadata": {
            "tags": [],
            "needs_background": "light"
          }
        },
        {
          "output_type": "stream",
          "text": [
            "\n",
            " \n",
            " \n",
            " \n"
          ],
          "name": "stdout"
        },
        {
          "output_type": "display_data",
          "data": {
            "image/png": "[encoded data removed]",
            "text/plain": [
              "<Figure size 1440x360 with 1 Axes>"
            ]
          },
          "metadata": {
            "tags": [],
            "needs_background": "light"
          }
        },
        {
          "output_type": "stream",
          "text": [
            "\n",
            " \n",
            " \n",
            " \n"
          ],
          "name": "stdout"
        },
        {
          "output_type": "display_data",
          "data": {
            "image/png": "[encoded data removed]",
            "text/plain": [
              "<Figure size 1440x360 with 1 Axes>"
            ]
          },
          "metadata": {
            "tags": [],
            "needs_background": "light"
          }
        },
        {
          "output_type": "stream",
          "text": [
            "\n",
            " \n",
            " \n",
            " \n"
          ],
          "name": "stdout"
        },
        {
          "output_type": "display_data",
          "data": {
            "image/png": "[encoded data removed]",
            "text/plain": [
              "<Figure size 1440x360 with 1 Axes>"
            ]
          },
          "metadata": {
            "tags": [],
            "needs_background": "light"
          }
        },
        {
          "output_type": "stream",
          "text": [
            "\n",
            " \n",
            " \n",
            " \n"
          ],
          "name": "stdout"
        },
        {
          "output_type": "display_data",
          "data": {
            "image/png": "[encoded data removed]",
            "text/plain": [
              "<Figure size 1440x360 with 1 Axes>"
            ]
          },
          "metadata": {
            "tags": [],
            "needs_background": "light"
          }
        },
        {
          "output_type": "stream",
          "text": [
            "\n",
            " \n",
            " \n",
            " \n"
          ],
          "name": "stdout"
        },
        {
          "output_type": "display_data",
          "data": {
            "image/png": "[encoded data removed]",
            "text/plain": [
              "<Figure size 1440x360 with 1 Axes>"
            ]
          },
          "metadata": {
            "tags": [],
            "needs_background": "light"
          }
        },
        {
          "output_type": "stream",
          "text": [
            "\n",
            " \n",
            " \n",
            " \n"
          ],
          "name": "stdout"
        },
        {
          "output_type": "display_data",
          "data": {
            "image/png": "[encoded data removed]",
            "text/plain": [
              "<Figure size 1440x360 with 1 Axes>"
            ]
          },
          "metadata": {
            "tags": [],
            "needs_background": "light"
          }
        },
        {
          "output_type": "stream",
          "text": [
            "\n",
            " \n",
            " \n",
            " \n"
          ],
          "name": "stdout"
        }
      ]
    },
    {
      "cell_type": "code",
      "metadata": {
        "colab": {
          "base_uri": "https://localhost:8080/",
          "height": 1000
        },
        "id": "VSwAGIL-LgIA",
        "outputId": "b85bf107-10e7-45c1-bd8e-6aba6266e6bc"
      },
      "source": [
        "check_categorical_relationship(cat_col,'No_Pol',all_data)"
      ],
      "execution_count": 25,
      "outputs": [
        {
          "output_type": "stream",
          "text": [
            "/usr/local/lib/python3.6/dist-packages/seaborn/_decorators.py:43: FutureWarning: Pass the following variables as keyword args: x, y. From version 0.12, the only valid positional argument will be `data`, and passing other arguments without an explicit keyword will result in an error or misinterpretation.\n",
            "  FutureWarning\n"
          ],
          "name": "stderr"
        },
        {
          "output_type": "display_data",
          "data": {
            "image/png": "[encoded data removed]",
            "text/plain": [
              "<Figure size 1440x360 with 1 Axes>"
            ]
          },
          "metadata": {
            "tags": [],
            "needs_background": "light"
          }
        },
        {
          "output_type": "stream",
          "text": [
            "\n",
            " \n",
            " \n",
            " \n"
          ],
          "name": "stdout"
        },
        {
          "output_type": "stream",
          "text": [
            "/usr/local/lib/python3.6/dist-packages/seaborn/_decorators.py:43: FutureWarning: Pass the following variables as keyword args: x, y. From version 0.12, the only valid positional argument will be `data`, and passing other arguments without an explicit keyword will result in an error or misinterpretation.\n",
            "  FutureWarning\n"
          ],
          "name": "stderr"
        },
        {
          "output_type": "display_data",
          "data": {
            "image/png": "[encoded data removed]",
            "text/plain": [
              "<Figure size 1440x360 with 1 Axes>"
            ]
          },
          "metadata": {
            "tags": [],
            "needs_background": "light"
          }
        },
        {
          "output_type": "stream",
          "text": [
            "\n",
            " \n",
            " \n",
            " \n"
          ],
          "name": "stdout"
        },
        {
          "output_type": "stream",
          "text": [
            "/usr/local/lib/python3.6/dist-packages/seaborn/_decorators.py:43: FutureWarning: Pass the following variables as keyword args: x, y. From version 0.12, the only valid positional argument will be `data`, and passing other arguments without an explicit keyword will result in an error or misinterpretation.\n",
            "  FutureWarning\n"
          ],
          "name": "stderr"
        },
        {
          "output_type": "display_data",
          "data": {
            "image/png": "[encoded data removed]",
            "text/plain": [
              "<Figure size 1440x360 with 1 Axes>"
            ]
          },
          "metadata": {
            "tags": [],
            "needs_background": "light"
          }
        },
        {
          "output_type": "stream",
          "text": [
            "\n",
            " \n",
            " \n",
            " \n"
          ],
          "name": "stdout"
        },
        {
          "output_type": "stream",
          "text": [
            "/usr/local/lib/python3.6/dist-packages/seaborn/_decorators.py:43: FutureWarning: Pass the following variables as keyword args: x, y. From version 0.12, the only valid positional argument will be `data`, and passing other arguments without an explicit keyword will result in an error or misinterpretation.\n",
            "  FutureWarning\n"
          ],
          "name": "stderr"
        },
        {
          "output_type": "display_data",
          "data": {
            "image/png": "[encoded data removed]",
            "text/plain": [
              "<Figure size 1440x360 with 1 Axes>"
            ]
          },
          "metadata": {
            "tags": [],
            "needs_background": "light"
          }
        },
        {
          "output_type": "stream",
          "text": [
            "\n",
            " \n",
            " \n",
            " \n"
          ],
          "name": "stdout"
        },
        {
          "output_type": "stream",
          "text": [
            "/usr/local/lib/python3.6/dist-packages/seaborn/_decorators.py:43: FutureWarning: Pass the following variables as keyword args: x, y. From version 0.12, the only valid positional argument will be `data`, and passing other arguments without an explicit keyword will result in an error or misinterpretation.\n",
            "  FutureWarning\n"
          ],
          "name": "stderr"
        },
        {
          "output_type": "display_data",
          "data": {
            "image/png": "[encoded data removed]",
            "text/plain": [
              "<Figure size 1440x360 with 1 Axes>"
            ]
          },
          "metadata": {
            "tags": [],
            "needs_background": "light"
          }
        },
        {
          "output_type": "stream",
          "text": [
            "\n",
            " \n",
            " \n",
            " \n"
          ],
          "name": "stdout"
        },
        {
          "output_type": "stream",
          "text": [
            "/usr/local/lib/python3.6/dist-packages/seaborn/_decorators.py:43: FutureWarning: Pass the following variables as keyword args: x, y. From version 0.12, the only valid positional argument will be `data`, and passing other arguments without an explicit keyword will result in an error or misinterpretation.\n",
            "  FutureWarning\n"
          ],
          "name": "stderr"
        },
        {
          "output_type": "display_data",
          "data": {
            "image/png": "[encoded data removed]",
            "text/plain": [
              "<Figure size 1440x360 with 1 Axes>"
            ]
          },
          "metadata": {
            "tags": [],
            "needs_background": "light"
          }
        },
        {
          "output_type": "stream",
          "text": [
            "\n",
            " \n",
            " \n",
            " \n"
          ],
          "name": "stdout"
        },
        {
          "output_type": "stream",
          "text": [
            "/usr/local/lib/python3.6/dist-packages/seaborn/_decorators.py:43: FutureWarning: Pass the following variables as keyword args: x, y. From version 0.12, the only valid positional argument will be `data`, and passing other arguments without an explicit keyword will result in an error or misinterpretation.\n",
            "  FutureWarning\n"
          ],
          "name": "stderr"
        },
        {
          "output_type": "display_data",
          "data": {
            "image/png": "[encoded data removed]",
            "text/plain": [
              "<Figure size 1440x360 with 1 Axes>"
            ]
          },
          "metadata": {
            "tags": [],
            "needs_background": "light"
          }
        },
        {
          "output_type": "stream",
          "text": [
            "\n",
            " \n",
            " \n",
            " \n"
          ],
          "name": "stdout"
        },
        {
          "output_type": "stream",
          "text": [
            "/usr/local/lib/python3.6/dist-packages/seaborn/_decorators.py:43: FutureWarning: Pass the following variables as keyword args: x, y. From version 0.12, the only valid positional argument will be `data`, and passing other arguments without an explicit keyword will result in an error or misinterpretation.\n",
            "  FutureWarning\n"
          ],
          "name": "stderr"
        },
        {
          "output_type": "display_data",
          "data": {
            "image/png": "[encoded data removed]",
            "text/plain": [
              "<Figure size 1440x360 with 1 Axes>"
            ]
          },
          "metadata": {
            "tags": [],
            "needs_background": "light"
          }
        },
        {
          "output_type": "stream",
          "text": [
            "\n",
            " \n",
            " \n",
            " \n"
          ],
          "name": "stdout"
        }
      ]
    },
    {
      "cell_type": "code",
      "metadata": {
        "colab": {
          "base_uri": "https://localhost:8080/",
          "height": 354
        },
        "id": "YSjJoswvLgIB",
        "outputId": "e0d08204-df23-4eeb-b58f-2c574304c204"
      },
      "source": [
        "# Gender distribution \n",
        "sns.countplot(all_data.Gender)"
      ],
      "execution_count": 26,
      "outputs": [
        {
          "output_type": "stream",
          "text": [
            "/usr/local/lib/python3.6/dist-packages/seaborn/_decorators.py:43: FutureWarning: Pass the following variable as a keyword arg: x. From version 0.12, the only valid positional argument will be `data`, and passing other arguments without an explicit keyword will result in an error or misinterpretation.\n",
            "  FutureWarning\n"
          ],
          "name": "stderr"
        },
        {
          "output_type": "execute_result",
          "data": {
            "text/plain": [
              "<matplotlib.axes._subplots.AxesSubplot at 0x7f83a05e8ef0>"
            ]
          },
          "metadata": {
            "tags": []
          },
          "execution_count": 26
        },
        {
          "output_type": "display_data",
          "data": {
            "image/png": "[encoded data removed]",
            "text/plain": [
              "<Figure size 432x288 with 1 Axes>"
            ]
          },
          "metadata": {
            "tags": [],
            "needs_background": "light"
          }
        }
      ]
    },
    {
      "cell_type": "code",
      "metadata": {
        "colab": {
          "base_uri": "https://localhost:8080/"
        },
        "id": "ZLw9yBZYLgIB",
        "outputId": "8dd20217-b947-4cb3-d731-836dcb0c1ff0"
      },
      "source": [
        "all_data.Gender.unique()"
      ],
      "execution_count": 27,
      "outputs": [
        {
          "output_type": "execute_result",
          "data": {
            "text/plain": [
              "array(['Male', 'Female', 'Entity', 'Joint Gender', nan, 'NO GENDER',\n",
              "       'NOT STATED', 'SEX'], dtype=object)"
            ]
          },
          "metadata": {
            "tags": []
          },
          "execution_count": 27
        }
      ]
    },
    {
      "cell_type": "markdown",
      "metadata": {
        "id": "BK1FrW9_LgIB"
      },
      "source": [
        "# Basic Data preprocessing "
      ]
    },
    {
      "cell_type": "code",
      "metadata": {
        "colab": {
          "base_uri": "https://localhost:8080/",
          "height": 261
        },
        "id": "eDtcsBIYLgIB",
        "outputId": "08295c47-7746-4837-9de3-8f7edf9372df"
      },
      "source": [
        "train.head()"
      ],
      "execution_count": 28,
      "outputs": [
        {
          "output_type": "execute_result",
          "data": {
            "text/html": [
              "<div>\n",
              "<style scoped>\n",
              "    .dataframe tbody tr th:only-of-type {\n",
              "        vertical-align: middle;\n",
              "    }\n",
              "\n",
              "    .dataframe tbody tr th {\n",
              "        vertical-align: top;\n",
              "    }\n",
              "\n",
              "    .dataframe thead th {\n",
              "        text-align: right;\n",
              "    }\n",
              "</style>\n",
              "<table border=\"1\" class=\"dataframe\">\n",
              "  <thead>\n",
              "    <tr style=\"text-align: right;\">\n",
              "      <th></th>\n",
              "      <th>ID</th>\n",
              "      <th>Policy Start Date</th>\n",
              "      <th>Policy End Date</th>\n",
              "      <th>Gender</th>\n",
              "      <th>Age</th>\n",
              "      <th>First Transaction Date</th>\n",
              "      <th>No_Pol</th>\n",
              "      <th>Car_Category</th>\n",
              "      <th>Subject_Car_Colour</th>\n",
              "      <th>Subject_Car_Make</th>\n",
              "      <th>LGA_Name</th>\n",
              "      <th>State</th>\n",
              "      <th>ProductName</th>\n",
              "      <th>target</th>\n",
              "    </tr>\n",
              "  </thead>\n",
              "  <tbody>\n",
              "    <tr>\n",
              "      <th>0</th>\n",
              "      <td>0040R73</td>\n",
              "      <td>2010-05-14</td>\n",
              "      <td>2011-05-13</td>\n",
              "      <td>Male</td>\n",
              "      <td>30</td>\n",
              "      <td>2010-05-14</td>\n",
              "      <td>1</td>\n",
              "      <td>Saloon</td>\n",
              "      <td>Black</td>\n",
              "      <td>TOYOTA</td>\n",
              "      <td>NaN</td>\n",
              "      <td>NaN</td>\n",
              "      <td>Car Classic</td>\n",
              "      <td>0</td>\n",
              "    </tr>\n",
              "    <tr>\n",
              "      <th>1</th>\n",
              "      <td>0046BNK</td>\n",
              "      <td>2010-11-29</td>\n",
              "      <td>2011-11-28</td>\n",
              "      <td>Female</td>\n",
              "      <td>79</td>\n",
              "      <td>2010-11-29</td>\n",
              "      <td>1</td>\n",
              "      <td>JEEP</td>\n",
              "      <td>Grey</td>\n",
              "      <td>TOYOTA</td>\n",
              "      <td>NaN</td>\n",
              "      <td>NaN</td>\n",
              "      <td>Car Classic</td>\n",
              "      <td>1</td>\n",
              "    </tr>\n",
              "    <tr>\n",
              "      <th>2</th>\n",
              "      <td>005QMC3</td>\n",
              "      <td>2010-03-21</td>\n",
              "      <td>2011-03-20</td>\n",
              "      <td>Male</td>\n",
              "      <td>43</td>\n",
              "      <td>2010-03-21</td>\n",
              "      <td>1</td>\n",
              "      <td>Saloon</td>\n",
              "      <td>Red</td>\n",
              "      <td>TOYOTA</td>\n",
              "      <td>NaN</td>\n",
              "      <td>NaN</td>\n",
              "      <td>Car Classic</td>\n",
              "      <td>0</td>\n",
              "    </tr>\n",
              "    <tr>\n",
              "      <th>3</th>\n",
              "      <td>0079OHW</td>\n",
              "      <td>2010-08-21</td>\n",
              "      <td>2011-08-20</td>\n",
              "      <td>Male</td>\n",
              "      <td>2</td>\n",
              "      <td>2010-08-21</td>\n",
              "      <td>1</td>\n",
              "      <td>NaN</td>\n",
              "      <td>NaN</td>\n",
              "      <td>NaN</td>\n",
              "      <td>NaN</td>\n",
              "      <td>NaN</td>\n",
              "      <td>CarSafe</td>\n",
              "      <td>0</td>\n",
              "    </tr>\n",
              "    <tr>\n",
              "      <th>4</th>\n",
              "      <td>00BRP63</td>\n",
              "      <td>2010-08-29</td>\n",
              "      <td>2010-12-31</td>\n",
              "      <td>Entity</td>\n",
              "      <td>20</td>\n",
              "      <td>2010-08-29</td>\n",
              "      <td>3</td>\n",
              "      <td>NaN</td>\n",
              "      <td>NaN</td>\n",
              "      <td>NaN</td>\n",
              "      <td>Lagos</td>\n",
              "      <td>Lagos</td>\n",
              "      <td>Muuve</td>\n",
              "      <td>1</td>\n",
              "    </tr>\n",
              "  </tbody>\n",
              "</table>\n",
              "</div>"
            ],
            "text/plain": [
              "        ID Policy Start Date Policy End Date  ...  State  ProductName target\n",
              "0  0040R73        2010-05-14      2011-05-13  ...    NaN  Car Classic      0\n",
              "1  0046BNK        2010-11-29      2011-11-28  ...    NaN  Car Classic      1\n",
              "2  005QMC3        2010-03-21      2011-03-20  ...    NaN  Car Classic      0\n",
              "3  0079OHW        2010-08-21      2011-08-20  ...    NaN      CarSafe      0\n",
              "4  00BRP63        2010-08-29      2010-12-31  ...  Lagos        Muuve      1\n",
              "\n",
              "[5 rows x 14 columns]"
            ]
          },
          "metadata": {
            "tags": []
          },
          "execution_count": 28
        }
      ]
    },
    {
      "cell_type": "markdown",
      "metadata": {
        "id": "k1PT1Oj4LgIB"
      },
      "source": [
        "### fill mising value"
      ]
    },
    {
      "cell_type": "code",
      "metadata": {
        "colab": {
          "base_uri": "https://localhost:8080/",
          "height": 261
        },
        "id": "uW1vBBDsLgIB",
        "outputId": "a0fc5a5c-c3bc-48cf-980a-09ad3835d71a"
      },
      "source": [
        "all_data = all_data.fillna(9999)\n",
        "all_data.head()"
      ],
      "execution_count": 29,
      "outputs": [
        {
          "output_type": "execute_result",
          "data": {
            "text/html": [
              "<div>\n",
              "<style scoped>\n",
              "    .dataframe tbody tr th:only-of-type {\n",
              "        vertical-align: middle;\n",
              "    }\n",
              "\n",
              "    .dataframe tbody tr th {\n",
              "        vertical-align: top;\n",
              "    }\n",
              "\n",
              "    .dataframe thead th {\n",
              "        text-align: right;\n",
              "    }\n",
              "</style>\n",
              "<table border=\"1\" class=\"dataframe\">\n",
              "  <thead>\n",
              "    <tr style=\"text-align: right;\">\n",
              "      <th></th>\n",
              "      <th>ID</th>\n",
              "      <th>Policy Start Date</th>\n",
              "      <th>Policy End Date</th>\n",
              "      <th>Gender</th>\n",
              "      <th>Age</th>\n",
              "      <th>First Transaction Date</th>\n",
              "      <th>No_Pol</th>\n",
              "      <th>Car_Category</th>\n",
              "      <th>Subject_Car_Colour</th>\n",
              "      <th>Subject_Car_Make</th>\n",
              "      <th>LGA_Name</th>\n",
              "      <th>State</th>\n",
              "      <th>ProductName</th>\n",
              "      <th>target</th>\n",
              "    </tr>\n",
              "  </thead>\n",
              "  <tbody>\n",
              "    <tr>\n",
              "      <th>0</th>\n",
              "      <td>0040R73</td>\n",
              "      <td>2010-05-14</td>\n",
              "      <td>2011-05-13</td>\n",
              "      <td>Male</td>\n",
              "      <td>30</td>\n",
              "      <td>2010-05-14</td>\n",
              "      <td>1</td>\n",
              "      <td>Saloon</td>\n",
              "      <td>Black</td>\n",
              "      <td>TOYOTA</td>\n",
              "      <td>9999</td>\n",
              "      <td>9999</td>\n",
              "      <td>Car Classic</td>\n",
              "      <td>0.0</td>\n",
              "    </tr>\n",
              "    <tr>\n",
              "      <th>1</th>\n",
              "      <td>0046BNK</td>\n",
              "      <td>2010-11-29</td>\n",
              "      <td>2011-11-28</td>\n",
              "      <td>Female</td>\n",
              "      <td>79</td>\n",
              "      <td>2010-11-29</td>\n",
              "      <td>1</td>\n",
              "      <td>JEEP</td>\n",
              "      <td>Grey</td>\n",
              "      <td>TOYOTA</td>\n",
              "      <td>9999</td>\n",
              "      <td>9999</td>\n",
              "      <td>Car Classic</td>\n",
              "      <td>1.0</td>\n",
              "    </tr>\n",
              "    <tr>\n",
              "      <th>2</th>\n",
              "      <td>005QMC3</td>\n",
              "      <td>2010-03-21</td>\n",
              "      <td>2011-03-20</td>\n",
              "      <td>Male</td>\n",
              "      <td>43</td>\n",
              "      <td>2010-03-21</td>\n",
              "      <td>1</td>\n",
              "      <td>Saloon</td>\n",
              "      <td>Red</td>\n",
              "      <td>TOYOTA</td>\n",
              "      <td>9999</td>\n",
              "      <td>9999</td>\n",
              "      <td>Car Classic</td>\n",
              "      <td>0.0</td>\n",
              "    </tr>\n",
              "    <tr>\n",
              "      <th>3</th>\n",
              "      <td>0079OHW</td>\n",
              "      <td>2010-08-21</td>\n",
              "      <td>2011-08-20</td>\n",
              "      <td>Male</td>\n",
              "      <td>2</td>\n",
              "      <td>2010-08-21</td>\n",
              "      <td>1</td>\n",
              "      <td>9999</td>\n",
              "      <td>9999</td>\n",
              "      <td>9999</td>\n",
              "      <td>9999</td>\n",
              "      <td>9999</td>\n",
              "      <td>CarSafe</td>\n",
              "      <td>0.0</td>\n",
              "    </tr>\n",
              "    <tr>\n",
              "      <th>4</th>\n",
              "      <td>00BRP63</td>\n",
              "      <td>2010-08-29</td>\n",
              "      <td>2010-12-31</td>\n",
              "      <td>Entity</td>\n",
              "      <td>20</td>\n",
              "      <td>2010-08-29</td>\n",
              "      <td>3</td>\n",
              "      <td>9999</td>\n",
              "      <td>9999</td>\n",
              "      <td>9999</td>\n",
              "      <td>Lagos</td>\n",
              "      <td>Lagos</td>\n",
              "      <td>Muuve</td>\n",
              "      <td>1.0</td>\n",
              "    </tr>\n",
              "  </tbody>\n",
              "</table>\n",
              "</div>"
            ],
            "text/plain": [
              "        ID Policy Start Date Policy End Date  ...  State  ProductName target\n",
              "0  0040R73        2010-05-14      2011-05-13  ...   9999  Car Classic    0.0\n",
              "1  0046BNK        2010-11-29      2011-11-28  ...   9999  Car Classic    1.0\n",
              "2  005QMC3        2010-03-21      2011-03-20  ...   9999  Car Classic    0.0\n",
              "3  0079OHW        2010-08-21      2011-08-20  ...   9999      CarSafe    0.0\n",
              "4  00BRP63        2010-08-29      2010-12-31  ...  Lagos        Muuve    1.0\n",
              "\n",
              "[5 rows x 14 columns]"
            ]
          },
          "metadata": {
            "tags": []
          },
          "execution_count": 29
        }
      ]
    },
    {
      "cell_type": "code",
      "metadata": {
        "colab": {
          "base_uri": "https://localhost:8080/"
        },
        "id": "eyy2_-5JLgIC",
        "outputId": "9579f707-0f90-4d92-9969-4189f00ab3f4"
      },
      "source": [
        "print(\"Are There still Missing value in data? :\",all_data.isnull().any().any())\n",
        "print((all_data.isnull().sum()/all_data.shape[0])*100)"
      ],
      "execution_count": 31,
      "outputs": [
        {
          "output_type": "stream",
          "text": [
            "Are There still Missing value in data? : False\n",
            "ID                        0.0\n",
            "Policy Start Date         0.0\n",
            "Policy End Date           0.0\n",
            "Gender                    0.0\n",
            "Age                       0.0\n",
            "First Transaction Date    0.0\n",
            "No_Pol                    0.0\n",
            "Car_Category              0.0\n",
            "Subject_Car_Colour        0.0\n",
            "Subject_Car_Make          0.0\n",
            "LGA_Name                  0.0\n",
            "State                     0.0\n",
            "ProductName               0.0\n",
            "target                    0.0\n",
            "dtype: float64\n"
          ],
          "name": "stdout"
        }
      ]
    },
    {
      "cell_type": "markdown",
      "metadata": {
        "id": "IxHPyVrYLgIC"
      },
      "source": [
        "### date features"
      ]
    },
    {
      "cell_type": "code",
      "metadata": {
        "colab": {
          "base_uri": "https://localhost:8080/"
        },
        "id": "c9ArDr9WLgIC",
        "outputId": "bd39f414-cf82-48cd-b53c-542f78362f09"
      },
      "source": [
        "date_col"
      ],
      "execution_count": 32,
      "outputs": [
        {
          "output_type": "execute_result",
          "data": {
            "text/plain": [
              "['Policy Start Date', 'Policy End Date', 'First Transaction Date']"
            ]
          },
          "metadata": {
            "tags": []
          },
          "execution_count": 32
        }
      ]
    },
    {
      "cell_type": "code",
      "metadata": {
        "id": "IcAEKP5bLgID"
      },
      "source": [
        "for feat in date_col:\n",
        "    all_data[feat] = pd.to_datetime(all_data[feat])"
      ],
      "execution_count": 33,
      "outputs": []
    },
    {
      "cell_type": "code",
      "metadata": {
        "colab": {
          "base_uri": "https://localhost:8080/"
        },
        "id": "MBfU0mpbLgID",
        "outputId": "57a18b5a-af47-4c9f-c50d-9fc076429add"
      },
      "source": [
        "all_data.info()"
      ],
      "execution_count": 34,
      "outputs": [
        {
          "output_type": "stream",
          "text": [
            "<class 'pandas.core.frame.DataFrame'>\n",
            "RangeIndex: 17256 entries, 0 to 17255\n",
            "Data columns (total 14 columns):\n",
            " #   Column                  Non-Null Count  Dtype         \n",
            "---  ------                  --------------  -----         \n",
            " 0   ID                      17256 non-null  object        \n",
            " 1   Policy Start Date       17256 non-null  datetime64[ns]\n",
            " 2   Policy End Date         17256 non-null  datetime64[ns]\n",
            " 3   Gender                  17256 non-null  object        \n",
            " 4   Age                     17256 non-null  int64         \n",
            " 5   First Transaction Date  17256 non-null  datetime64[ns]\n",
            " 6   No_Pol                  17256 non-null  int64         \n",
            " 7   Car_Category            17256 non-null  object        \n",
            " 8   Subject_Car_Colour      17256 non-null  object        \n",
            " 9   Subject_Car_Make        17256 non-null  object        \n",
            " 10  LGA_Name                17256 non-null  object        \n",
            " 11  State                   17256 non-null  object        \n",
            " 12  ProductName             17256 non-null  object        \n",
            " 13  target                  17256 non-null  float64       \n",
            "dtypes: datetime64[ns](3), float64(1), int64(2), object(8)\n",
            "memory usage: 1.8+ MB\n"
          ],
          "name": "stdout"
        }
      ]
    },
    {
      "cell_type": "code",
      "metadata": {
        "id": "ElDaAj1MLgIE",
        "outputId": "7d81e897-860d-4454-90bc-a6db5eff713f"
      },
      "source": [
        "all_data.head()"
      ],
      "execution_count": null,
      "outputs": [
        {
          "output_type": "execute_result",
          "data": {
            "text/html": [
              "<div>\n",
              "<style scoped>\n",
              "    .dataframe tbody tr th:only-of-type {\n",
              "        vertical-align: middle;\n",
              "    }\n",
              "\n",
              "    .dataframe tbody tr th {\n",
              "        vertical-align: top;\n",
              "    }\n",
              "\n",
              "    .dataframe thead th {\n",
              "        text-align: right;\n",
              "    }\n",
              "</style>\n",
              "<table border=\"1\" class=\"dataframe\">\n",
              "  <thead>\n",
              "    <tr style=\"text-align: right;\">\n",
              "      <th></th>\n",
              "      <th>ID</th>\n",
              "      <th>Policy Start Date</th>\n",
              "      <th>Policy End Date</th>\n",
              "      <th>Gender</th>\n",
              "      <th>Age</th>\n",
              "      <th>First Transaction Date</th>\n",
              "      <th>No_Pol</th>\n",
              "      <th>Car_Category</th>\n",
              "      <th>Subject_Car_Colour</th>\n",
              "      <th>Subject_Car_Make</th>\n",
              "      <th>LGA_Name</th>\n",
              "      <th>State</th>\n",
              "      <th>ProductName</th>\n",
              "      <th>target</th>\n",
              "    </tr>\n",
              "  </thead>\n",
              "  <tbody>\n",
              "    <tr>\n",
              "      <th>0</th>\n",
              "      <td>0040R73</td>\n",
              "      <td>2010-05-14</td>\n",
              "      <td>2011-05-13</td>\n",
              "      <td>Male</td>\n",
              "      <td>30</td>\n",
              "      <td>2010-05-14</td>\n",
              "      <td>1</td>\n",
              "      <td>Saloon</td>\n",
              "      <td>Black</td>\n",
              "      <td>TOYOTA</td>\n",
              "      <td>9999</td>\n",
              "      <td>9999</td>\n",
              "      <td>Car Classic</td>\n",
              "      <td>0.0</td>\n",
              "    </tr>\n",
              "    <tr>\n",
              "      <th>1</th>\n",
              "      <td>0046BNK</td>\n",
              "      <td>2010-11-29</td>\n",
              "      <td>2011-11-28</td>\n",
              "      <td>Female</td>\n",
              "      <td>79</td>\n",
              "      <td>2010-11-29</td>\n",
              "      <td>1</td>\n",
              "      <td>JEEP</td>\n",
              "      <td>Grey</td>\n",
              "      <td>TOYOTA</td>\n",
              "      <td>9999</td>\n",
              "      <td>9999</td>\n",
              "      <td>Car Classic</td>\n",
              "      <td>1.0</td>\n",
              "    </tr>\n",
              "    <tr>\n",
              "      <th>2</th>\n",
              "      <td>005QMC3</td>\n",
              "      <td>2010-03-21</td>\n",
              "      <td>2011-03-20</td>\n",
              "      <td>Male</td>\n",
              "      <td>43</td>\n",
              "      <td>2010-03-21</td>\n",
              "      <td>1</td>\n",
              "      <td>Saloon</td>\n",
              "      <td>Red</td>\n",
              "      <td>TOYOTA</td>\n",
              "      <td>9999</td>\n",
              "      <td>9999</td>\n",
              "      <td>Car Classic</td>\n",
              "      <td>0.0</td>\n",
              "    </tr>\n",
              "    <tr>\n",
              "      <th>3</th>\n",
              "      <td>0079OHW</td>\n",
              "      <td>2010-08-21</td>\n",
              "      <td>2011-08-20</td>\n",
              "      <td>Male</td>\n",
              "      <td>2</td>\n",
              "      <td>2010-08-21</td>\n",
              "      <td>1</td>\n",
              "      <td>9999</td>\n",
              "      <td>9999</td>\n",
              "      <td>9999</td>\n",
              "      <td>9999</td>\n",
              "      <td>9999</td>\n",
              "      <td>CarSafe</td>\n",
              "      <td>0.0</td>\n",
              "    </tr>\n",
              "    <tr>\n",
              "      <th>4</th>\n",
              "      <td>00BRP63</td>\n",
              "      <td>2010-08-29</td>\n",
              "      <td>2010-12-31</td>\n",
              "      <td>Entity</td>\n",
              "      <td>20</td>\n",
              "      <td>2010-08-29</td>\n",
              "      <td>3</td>\n",
              "      <td>9999</td>\n",
              "      <td>9999</td>\n",
              "      <td>9999</td>\n",
              "      <td>Lagos</td>\n",
              "      <td>Lagos</td>\n",
              "      <td>Muuve</td>\n",
              "      <td>1.0</td>\n",
              "    </tr>\n",
              "  </tbody>\n",
              "</table>\n",
              "</div>"
            ],
            "text/plain": [
              "        ID Policy Start Date Policy End Date  Gender  Age  \\\n",
              "0  0040R73        2010-05-14      2011-05-13    Male   30   \n",
              "1  0046BNK        2010-11-29      2011-11-28  Female   79   \n",
              "2  005QMC3        2010-03-21      2011-03-20    Male   43   \n",
              "3  0079OHW        2010-08-21      2011-08-20    Male    2   \n",
              "4  00BRP63        2010-08-29      2010-12-31  Entity   20   \n",
              "\n",
              "  First Transaction Date  No_Pol Car_Category Subject_Car_Colour  \\\n",
              "0             2010-05-14       1       Saloon              Black   \n",
              "1             2010-11-29       1         JEEP               Grey   \n",
              "2             2010-03-21       1       Saloon                Red   \n",
              "3             2010-08-21       1         9999               9999   \n",
              "4             2010-08-29       3         9999               9999   \n",
              "\n",
              "  Subject_Car_Make LGA_Name  State  ProductName  target  \n",
              "0           TOYOTA     9999   9999  Car Classic     0.0  \n",
              "1           TOYOTA     9999   9999  Car Classic     1.0  \n",
              "2           TOYOTA     9999   9999  Car Classic     0.0  \n",
              "3             9999     9999   9999      CarSafe     0.0  \n",
              "4             9999    Lagos  Lagos        Muuve     1.0  "
            ]
          },
          "metadata": {
            "tags": []
          },
          "execution_count": 350
        }
      ]
    },
    {
      "cell_type": "code",
      "metadata": {
        "id": "3IS1e7L2LgIE"
      },
      "source": [
        "def extract_date_info(df,cols,):\n",
        "    for feat in cols:\n",
        "        df[feat +'_year'] = df[feat].dt.quarter\n",
        "        df[feat +'_day'] = df[feat].dt.day\n",
        "        df[feat +'_month'] = df[feat].dt.month\n",
        "        df[feat +'_quarter'] = df[feat].dt.quarter\n",
        "    df.drop(columns=date_col,axis=1,inplace=True)"
      ],
      "execution_count": 35,
      "outputs": []
    },
    {
      "cell_type": "code",
      "metadata": {
        "id": "IHp0IXyaLgIE"
      },
      "source": [
        "extract_date_info(all_data,date_col)"
      ],
      "execution_count": 36,
      "outputs": []
    },
    {
      "cell_type": "code",
      "metadata": {
        "colab": {
          "base_uri": "https://localhost:8080/",
          "height": 261
        },
        "id": "EFB2mfRULgIE",
        "outputId": "b7a84436-af64-4241-b268-fe0f4374718c"
      },
      "source": [
        "all_data.head()"
      ],
      "execution_count": 37,
      "outputs": [
        {
          "output_type": "execute_result",
          "data": {
            "text/html": [
              "<div>\n",
              "<style scoped>\n",
              "    .dataframe tbody tr th:only-of-type {\n",
              "        vertical-align: middle;\n",
              "    }\n",
              "\n",
              "    .dataframe tbody tr th {\n",
              "        vertical-align: top;\n",
              "    }\n",
              "\n",
              "    .dataframe thead th {\n",
              "        text-align: right;\n",
              "    }\n",
              "</style>\n",
              "<table border=\"1\" class=\"dataframe\">\n",
              "  <thead>\n",
              "    <tr style=\"text-align: right;\">\n",
              "      <th></th>\n",
              "      <th>ID</th>\n",
              "      <th>Gender</th>\n",
              "      <th>Age</th>\n",
              "      <th>No_Pol</th>\n",
              "      <th>Car_Category</th>\n",
              "      <th>Subject_Car_Colour</th>\n",
              "      <th>Subject_Car_Make</th>\n",
              "      <th>LGA_Name</th>\n",
              "      <th>State</th>\n",
              "      <th>ProductName</th>\n",
              "      <th>target</th>\n",
              "      <th>Policy Start Date_year</th>\n",
              "      <th>Policy Start Date_day</th>\n",
              "      <th>Policy Start Date_month</th>\n",
              "      <th>Policy Start Date_quarter</th>\n",
              "      <th>Policy End Date_year</th>\n",
              "      <th>Policy End Date_day</th>\n",
              "      <th>Policy End Date_month</th>\n",
              "      <th>Policy End Date_quarter</th>\n",
              "      <th>First Transaction Date_year</th>\n",
              "      <th>First Transaction Date_day</th>\n",
              "      <th>First Transaction Date_month</th>\n",
              "      <th>First Transaction Date_quarter</th>\n",
              "    </tr>\n",
              "  </thead>\n",
              "  <tbody>\n",
              "    <tr>\n",
              "      <th>0</th>\n",
              "      <td>0040R73</td>\n",
              "      <td>Male</td>\n",
              "      <td>30</td>\n",
              "      <td>1</td>\n",
              "      <td>Saloon</td>\n",
              "      <td>Black</td>\n",
              "      <td>TOYOTA</td>\n",
              "      <td>9999</td>\n",
              "      <td>9999</td>\n",
              "      <td>Car Classic</td>\n",
              "      <td>0.0</td>\n",
              "      <td>2</td>\n",
              "      <td>14</td>\n",
              "      <td>5</td>\n",
              "      <td>2</td>\n",
              "      <td>2</td>\n",
              "      <td>13</td>\n",
              "      <td>5</td>\n",
              "      <td>2</td>\n",
              "      <td>2</td>\n",
              "      <td>14</td>\n",
              "      <td>5</td>\n",
              "      <td>2</td>\n",
              "    </tr>\n",
              "    <tr>\n",
              "      <th>1</th>\n",
              "      <td>0046BNK</td>\n",
              "      <td>Female</td>\n",
              "      <td>79</td>\n",
              "      <td>1</td>\n",
              "      <td>JEEP</td>\n",
              "      <td>Grey</td>\n",
              "      <td>TOYOTA</td>\n",
              "      <td>9999</td>\n",
              "      <td>9999</td>\n",
              "      <td>Car Classic</td>\n",
              "      <td>1.0</td>\n",
              "      <td>4</td>\n",
              "      <td>29</td>\n",
              "      <td>11</td>\n",
              "      <td>4</td>\n",
              "      <td>4</td>\n",
              "      <td>28</td>\n",
              "      <td>11</td>\n",
              "      <td>4</td>\n",
              "      <td>4</td>\n",
              "      <td>29</td>\n",
              "      <td>11</td>\n",
              "      <td>4</td>\n",
              "    </tr>\n",
              "    <tr>\n",
              "      <th>2</th>\n",
              "      <td>005QMC3</td>\n",
              "      <td>Male</td>\n",
              "      <td>43</td>\n",
              "      <td>1</td>\n",
              "      <td>Saloon</td>\n",
              "      <td>Red</td>\n",
              "      <td>TOYOTA</td>\n",
              "      <td>9999</td>\n",
              "      <td>9999</td>\n",
              "      <td>Car Classic</td>\n",
              "      <td>0.0</td>\n",
              "      <td>1</td>\n",
              "      <td>21</td>\n",
              "      <td>3</td>\n",
              "      <td>1</td>\n",
              "      <td>1</td>\n",
              "      <td>20</td>\n",
              "      <td>3</td>\n",
              "      <td>1</td>\n",
              "      <td>1</td>\n",
              "      <td>21</td>\n",
              "      <td>3</td>\n",
              "      <td>1</td>\n",
              "    </tr>\n",
              "    <tr>\n",
              "      <th>3</th>\n",
              "      <td>0079OHW</td>\n",
              "      <td>Male</td>\n",
              "      <td>2</td>\n",
              "      <td>1</td>\n",
              "      <td>9999</td>\n",
              "      <td>9999</td>\n",
              "      <td>9999</td>\n",
              "      <td>9999</td>\n",
              "      <td>9999</td>\n",
              "      <td>CarSafe</td>\n",
              "      <td>0.0</td>\n",
              "      <td>3</td>\n",
              "      <td>21</td>\n",
              "      <td>8</td>\n",
              "      <td>3</td>\n",
              "      <td>3</td>\n",
              "      <td>20</td>\n",
              "      <td>8</td>\n",
              "      <td>3</td>\n",
              "      <td>3</td>\n",
              "      <td>21</td>\n",
              "      <td>8</td>\n",
              "      <td>3</td>\n",
              "    </tr>\n",
              "    <tr>\n",
              "      <th>4</th>\n",
              "      <td>00BRP63</td>\n",
              "      <td>Entity</td>\n",
              "      <td>20</td>\n",
              "      <td>3</td>\n",
              "      <td>9999</td>\n",
              "      <td>9999</td>\n",
              "      <td>9999</td>\n",
              "      <td>Lagos</td>\n",
              "      <td>Lagos</td>\n",
              "      <td>Muuve</td>\n",
              "      <td>1.0</td>\n",
              "      <td>3</td>\n",
              "      <td>29</td>\n",
              "      <td>8</td>\n",
              "      <td>3</td>\n",
              "      <td>4</td>\n",
              "      <td>31</td>\n",
              "      <td>12</td>\n",
              "      <td>4</td>\n",
              "      <td>3</td>\n",
              "      <td>29</td>\n",
              "      <td>8</td>\n",
              "      <td>3</td>\n",
              "    </tr>\n",
              "  </tbody>\n",
              "</table>\n",
              "</div>"
            ],
            "text/plain": [
              "        ID  ... First Transaction Date_quarter\n",
              "0  0040R73  ...                              2\n",
              "1  0046BNK  ...                              4\n",
              "2  005QMC3  ...                              1\n",
              "3  0079OHW  ...                              3\n",
              "4  00BRP63  ...                              3\n",
              "\n",
              "[5 rows x 23 columns]"
            ]
          },
          "metadata": {
            "tags": []
          },
          "execution_count": 37
        }
      ]
    },
    {
      "cell_type": "code",
      "metadata": {
        "colab": {
          "base_uri": "https://localhost:8080/"
        },
        "id": "VC234R-tLgIF",
        "outputId": "7754a9d0-0cc6-4de3-d8c9-b818dfff31f6"
      },
      "source": [
        "all_data.Gender.unique()"
      ],
      "execution_count": 38,
      "outputs": [
        {
          "output_type": "execute_result",
          "data": {
            "text/plain": [
              "array(['Male', 'Female', 'Entity', 'Joint Gender', 9999, 'NO GENDER',\n",
              "       'NOT STATED', 'SEX'], dtype=object)"
            ]
          },
          "metadata": {
            "tags": []
          },
          "execution_count": 38
        }
      ]
    },
    {
      "cell_type": "code",
      "metadata": {
        "id": "GkLrCICqLgIF"
      },
      "source": [
        "mapper = {\"Male\":\"M\",\"Female\":'F','Entity':'O','Joint Gender':'O',9999:'O','NO GENDER':'O','NOT STATED':'O','SEX':'O' }"
      ],
      "execution_count": 39,
      "outputs": []
    },
    {
      "cell_type": "code",
      "metadata": {
        "id": "x6WAodAuLgIF"
      },
      "source": [
        "all_data.Gender = all_data.Gender.map(mapper)"
      ],
      "execution_count": 40,
      "outputs": []
    },
    {
      "cell_type": "code",
      "metadata": {
        "colab": {
          "base_uri": "https://localhost:8080/"
        },
        "id": "Yufw-fDyLgIF",
        "outputId": "fe575db5-2cd9-4017-e746-cb4f7136d59d"
      },
      "source": [
        "all_data.Gender.unique()"
      ],
      "execution_count": 41,
      "outputs": [
        {
          "output_type": "execute_result",
          "data": {
            "text/plain": [
              "array(['M', 'F', 'O'], dtype=object)"
            ]
          },
          "metadata": {
            "tags": []
          },
          "execution_count": 41
        }
      ]
    },
    {
      "cell_type": "code",
      "metadata": {
        "id": "-9X3gOBILgIG"
      },
      "source": [
        "# pd.get_dummies(all_data)"
      ],
      "execution_count": null,
      "outputs": []
    },
    {
      "cell_type": "markdown",
      "metadata": {
        "id": "qCS8ZfmlLgIG"
      },
      "source": [
        "# Creat Base model "
      ]
    },
    {
      "cell_type": "code",
      "metadata": {
        "id": "Rf-8_V33LgIG"
      },
      "source": [
        "all_data.target = all_data.target.astype(int)"
      ],
      "execution_count": 42,
      "outputs": []
    },
    {
      "cell_type": "code",
      "metadata": {
        "id": "shk-9j_gLgIG"
      },
      "source": [
        "all_data.drop(columns=['ID'],inplace=True)"
      ],
      "execution_count": 43,
      "outputs": []
    },
    {
      "cell_type": "code",
      "metadata": {
        "id": "s6xUXHL5LgIG"
      },
      "source": [
        "#Get the new dataset\n",
        "train_n = all_data[:ntrain]\n",
        "test_n = all_data[ntrain:]"
      ],
      "execution_count": 44,
      "outputs": []
    },
    {
      "cell_type": "code",
      "metadata": {
        "colab": {
          "base_uri": "https://localhost:8080/"
        },
        "id": "Al30GkSPLgIG",
        "outputId": "abd26489-82da-43a0-9b29-0e57711c9c55"
      },
      "source": [
        "test_n.drop(\"target\",axis = 1,inplace = True)"
      ],
      "execution_count": 45,
      "outputs": [
        {
          "output_type": "stream",
          "text": [
            "/usr/local/lib/python3.6/dist-packages/pandas/core/frame.py:4174: SettingWithCopyWarning: \n",
            "A value is trying to be set on a copy of a slice from a DataFrame\n",
            "\n",
            "See the caveats in the documentation: https://pandas.pydata.org/pandas-docs/stable/user_guide/indexing.html#returning-a-view-versus-a-copy\n",
            "  errors=errors,\n"
          ],
          "name": "stderr"
        }
      ]
    },
    {
      "cell_type": "code",
      "metadata": {
        "id": "7EEYnwzSLgIH"
      },
      "source": [
        "X= train_n.drop(columns=['target'])\n",
        "y= train_n.target"
      ],
      "execution_count": 50,
      "outputs": []
    },
    {
      "cell_type": "code",
      "metadata": {
        "id": "5fwOXMo1LgIH"
      },
      "source": [
        "X_train, X_test, y_train, y_test = train_test_split(X,y,test_size=0.33, random_state=42,)"
      ],
      "execution_count": 62,
      "outputs": []
    },
    {
      "cell_type": "code",
      "metadata": {
        "colab": {
          "base_uri": "https://localhost:8080/"
        },
        "id": "rbFOAy4SLgIH",
        "outputId": "50b18a74-d439-4cfe-a1a8-115113eb2451"
      },
      "source": [
        "test_n.columns"
      ],
      "execution_count": 48,
      "outputs": [
        {
          "output_type": "execute_result",
          "data": {
            "text/plain": [
              "Index(['Gender', 'Age', 'No_Pol', 'Car_Category', 'Subject_Car_Colour',\n",
              "       'Subject_Car_Make', 'LGA_Name', 'State', 'ProductName',\n",
              "       'Policy Start Date_year', 'Policy Start Date_day',\n",
              "       'Policy Start Date_month', 'Policy Start Date_quarter',\n",
              "       'Policy End Date_year', 'Policy End Date_day', 'Policy End Date_month',\n",
              "       'Policy End Date_quarter', 'First Transaction Date_year',\n",
              "       'First Transaction Date_day', 'First Transaction Date_month',\n",
              "       'First Transaction Date_quarter'],\n",
              "      dtype='object')"
            ]
          },
          "metadata": {
            "tags": []
          },
          "execution_count": 48
        }
      ]
    },
    {
      "cell_type": "code",
      "metadata": {
        "id": "oS9qgUYOLgII"
      },
      "source": [
        "categorical_feat = ['Gender', 'Age', 'No_Pol', 'Car_Category', 'Subject_Car_Colour',\n",
        "       'Subject_Car_Make', 'LGA_Name', 'State', 'ProductName']"
      ],
      "execution_count": 51,
      "outputs": []
    },
    {
      "cell_type": "code",
      "metadata": {
        "colab": {
          "base_uri": "https://localhost:8080/"
        },
        "id": "VA65_lZmLgII",
        "outputId": "88709638-085f-489d-c8ad-ab8ba2a575e5"
      },
      "source": [
        "categorical_feat"
      ],
      "execution_count": 52,
      "outputs": [
        {
          "output_type": "execute_result",
          "data": {
            "text/plain": [
              "['Gender',\n",
              " 'Age',\n",
              " 'No_Pol',\n",
              " 'Car_Category',\n",
              " 'Subject_Car_Colour',\n",
              " 'Subject_Car_Make',\n",
              " 'LGA_Name',\n",
              " 'State',\n",
              " 'ProductName']"
            ]
          },
          "metadata": {
            "tags": []
          },
          "execution_count": 52
        }
      ]
    },
    {
      "cell_type": "code",
      "metadata": {
        "colab": {
          "base_uri": "https://localhost:8080/"
        },
        "id": "afRhTP1TLgII",
        "outputId": "d007c821-ca05-4ed9-d6c0-48be67bbf3b9"
      },
      "source": [
        "!pip install catboost\n",
        "from catboost import CatBoostClassifier\n",
        "import catboost\n",
        "model = CatBoostClassifier(cat_features=categorical_feat,verbose=50)"
      ],
      "execution_count": 54,
      "outputs": [
        {
          "output_type": "stream",
          "text": [
            "Collecting catboost\n",
            "\u001b[?25l  Downloading https://files.pythonhosted.org/packages/7e/c1/c1c4707013f9e2f8a96899dd3a87f66c9167d6d776a6dc8fe7ec8678d446/catboost-0.24.3-cp36-none-manylinux1_x86_64.whl (66.3MB)\n",
            "\u001b[K     |████████████████████████████████| 66.3MB 61kB/s \n",
            "\u001b[?25hRequirement already satisfied: graphviz in /usr/local/lib/python3.6/dist-packages (from catboost) (0.10.1)\n",
            "Requirement already satisfied: pandas>=0.24.0 in /usr/local/lib/python3.6/dist-packages (from catboost) (1.1.4)\n",
            "Requirement already satisfied: matplotlib in /usr/local/lib/python3.6/dist-packages (from catboost) (3.2.2)\n",
            "Requirement already satisfied: numpy>=1.16.0 in /usr/local/lib/python3.6/dist-packages (from catboost) (1.18.5)\n",
            "Requirement already satisfied: scipy in /usr/local/lib/python3.6/dist-packages (from catboost) (1.4.1)\n",
            "Requirement already satisfied: six in /usr/local/lib/python3.6/dist-packages (from catboost) (1.15.0)\n",
            "Requirement already satisfied: plotly in /usr/local/lib/python3.6/dist-packages (from catboost) (4.4.1)\n",
            "Requirement already satisfied: pytz>=2017.2 in /usr/local/lib/python3.6/dist-packages (from pandas>=0.24.0->catboost) (2018.9)\n",
            "Requirement already satisfied: python-dateutil>=2.7.3 in /usr/local/lib/python3.6/dist-packages (from pandas>=0.24.0->catboost) (2.8.1)\n",
            "Requirement already satisfied: pyparsing!=2.0.4,!=2.1.2,!=2.1.6,>=2.0.1 in /usr/local/lib/python3.6/dist-packages (from matplotlib->catboost) (2.4.7)\n",
            "Requirement already satisfied: cycler>=0.10 in /usr/local/lib/python3.6/dist-packages (from matplotlib->catboost) (0.10.0)\n",
            "Requirement already satisfied: kiwisolver>=1.0.1 in /usr/local/lib/python3.6/dist-packages (from matplotlib->catboost) (1.3.1)\n",
            "Requirement already satisfied: retrying>=1.3.3 in /usr/local/lib/python3.6/dist-packages (from plotly->catboost) (1.3.3)\n",
            "Installing collected packages: catboost\n",
            "Successfully installed catboost-0.24.3\n"
          ],
          "name": "stdout"
        }
      ]
    },
    {
      "cell_type": "code",
      "metadata": {
        "colab": {
          "base_uri": "https://localhost:8080/"
        },
        "id": "7j9sVO4sLgII",
        "outputId": "4f0cf29a-4a93-4b2f-a072-613b509f5d72"
      },
      "source": [
        "model.fit(X_train,y_train)"
      ],
      "execution_count": 55,
      "outputs": [
        {
          "output_type": "stream",
          "text": [
            "Learning rate set to 0.025158\n",
            "0:\tlearn: 0.6672531\ttotal: 77.8ms\tremaining: 1m 17s\n",
            "50:\tlearn: 0.3333817\ttotal: 933ms\tremaining: 17.4s\n",
            "100:\tlearn: 0.2964793\ttotal: 1.84s\tremaining: 16.4s\n",
            "150:\tlearn: 0.2838312\ttotal: 2.87s\tremaining: 16.1s\n",
            "200:\tlearn: 0.2773295\ttotal: 3.9s\tremaining: 15.5s\n",
            "250:\tlearn: 0.2721512\ttotal: 4.97s\tremaining: 14.8s\n",
            "300:\tlearn: 0.2671586\ttotal: 6.02s\tremaining: 14s\n",
            "350:\tlearn: 0.2629035\ttotal: 7.08s\tremaining: 13.1s\n",
            "400:\tlearn: 0.2590596\ttotal: 8.19s\tremaining: 12.2s\n",
            "450:\tlearn: 0.2553651\ttotal: 9.24s\tremaining: 11.2s\n",
            "500:\tlearn: 0.2515452\ttotal: 10.3s\tremaining: 10.3s\n",
            "550:\tlearn: 0.2482252\ttotal: 11.4s\tremaining: 9.26s\n",
            "600:\tlearn: 0.2451244\ttotal: 12.4s\tremaining: 8.25s\n",
            "650:\tlearn: 0.2422278\ttotal: 13.5s\tremaining: 7.24s\n",
            "700:\tlearn: 0.2391465\ttotal: 14.6s\tremaining: 6.22s\n",
            "750:\tlearn: 0.2357152\ttotal: 15.7s\tremaining: 5.2s\n",
            "800:\tlearn: 0.2325917\ttotal: 16.8s\tremaining: 4.17s\n",
            "850:\tlearn: 0.2295895\ttotal: 17.9s\tremaining: 3.13s\n",
            "900:\tlearn: 0.2263294\ttotal: 19s\tremaining: 2.09s\n",
            "950:\tlearn: 0.2231082\ttotal: 20.1s\tremaining: 1.03s\n",
            "999:\tlearn: 0.2200396\ttotal: 21.2s\tremaining: 0us\n"
          ],
          "name": "stdout"
        },
        {
          "output_type": "execute_result",
          "data": {
            "text/plain": [
              "<catboost.core.CatBoostClassifier at 0x7f83a05790b8>"
            ]
          },
          "metadata": {
            "tags": []
          },
          "execution_count": 55
        }
      ]
    },
    {
      "cell_type": "code",
      "metadata": {
        "id": "IDplPfcdLgIJ"
      },
      "source": [
        "y_pred = model.predict(X_train)"
      ],
      "execution_count": 64,
      "outputs": []
    },
    {
      "cell_type": "code",
      "metadata": {
        "id": "nhFYe4NHLgIJ"
      },
      "source": [
        "from sklearn.metrics import classification_report"
      ],
      "execution_count": 65,
      "outputs": []
    },
    {
      "cell_type": "code",
      "metadata": {
        "colab": {
          "base_uri": "https://localhost:8080/"
        },
        "id": "QVMgKutqLgIJ",
        "outputId": "1fea1e0d-21b2-4e2b-a3c5-a959792087b4"
      },
      "source": [
        "target_names = ['class 0', 'class 1']\n",
        "print('*************** Classification report on training set ********************')\n",
        "print(classification_report(y_train, y_pred, target_names=target_names))"
      ],
      "execution_count": 66,
      "outputs": [
        {
          "output_type": "stream",
          "text": [
            "*************** Classification report on training set ********************\n",
            "              precision    recall  f1-score   support\n",
            "\n",
            "     class 0       0.90      0.99      0.94      7110\n",
            "     class 1       0.73      0.17      0.27       982\n",
            "\n",
            "    accuracy                           0.89      8092\n",
            "   macro avg       0.81      0.58      0.61      8092\n",
            "weighted avg       0.88      0.89      0.86      8092\n",
            "\n"
          ],
          "name": "stdout"
        }
      ]
    },
    {
      "cell_type": "code",
      "metadata": {
        "colab": {
          "base_uri": "https://localhost:8080/"
        },
        "id": "-uaFtng3LgIJ",
        "outputId": "e192eb91-edb9-4ff6-b1a6-92b05068d43d"
      },
      "source": [
        "print('*************** Classification report on testing set ********************')\n",
        "print(classification_report(y_test, model.predict(X_test), target_names=target_names))"
      ],
      "execution_count": 67,
      "outputs": [
        {
          "output_type": "stream",
          "text": [
            "*************** Classification report on testing set ********************\n",
            "              precision    recall  f1-score   support\n",
            "\n",
            "     class 0       0.89      0.99      0.94      3514\n",
            "     class 1       0.60      0.12      0.20       473\n",
            "\n",
            "    accuracy                           0.89      3987\n",
            "   macro avg       0.75      0.55      0.57      3987\n",
            "weighted avg       0.86      0.89      0.85      3987\n",
            "\n"
          ],
          "name": "stdout"
        }
      ]
    },
    {
      "cell_type": "markdown",
      "metadata": {
        "id": "KCE5vDlXLgIJ"
      },
      "source": [
        "### Train on full train dataset"
      ]
    },
    {
      "cell_type": "code",
      "metadata": {
        "colab": {
          "base_uri": "https://localhost:8080/"
        },
        "id": "yaQbXc2ALgIJ",
        "outputId": "28dfcaa4-040f-4a52-fc92-3854c47497e0"
      },
      "source": [
        "model.fit(X,y)"
      ],
      "execution_count": 68,
      "outputs": [
        {
          "output_type": "stream",
          "text": [
            "Learning rate set to 0.029851\n",
            "0:\tlearn: 0.6709212\ttotal: 17.5ms\tremaining: 17.5s\n",
            "50:\tlearn: 0.3190249\ttotal: 1.47s\tremaining: 27.4s\n",
            "100:\tlearn: 0.2872740\ttotal: 3.08s\tremaining: 27.4s\n",
            "150:\tlearn: 0.2783560\ttotal: 4.78s\tremaining: 26.9s\n",
            "200:\tlearn: 0.2730527\ttotal: 6.4s\tremaining: 25.4s\n",
            "250:\tlearn: 0.2685809\ttotal: 8.11s\tremaining: 24.2s\n",
            "300:\tlearn: 0.2656139\ttotal: 9.75s\tremaining: 22.6s\n",
            "350:\tlearn: 0.2625124\ttotal: 11.3s\tremaining: 21s\n",
            "400:\tlearn: 0.2590093\ttotal: 13.1s\tremaining: 19.5s\n",
            "450:\tlearn: 0.2543885\ttotal: 14.8s\tremaining: 18s\n",
            "500:\tlearn: 0.2497275\ttotal: 16.6s\tremaining: 16.5s\n",
            "550:\tlearn: 0.2466511\ttotal: 18.4s\tremaining: 15s\n",
            "600:\tlearn: 0.2431349\ttotal: 20.1s\tremaining: 13.4s\n",
            "650:\tlearn: 0.2399167\ttotal: 21.9s\tremaining: 11.8s\n",
            "700:\tlearn: 0.2371640\ttotal: 23.7s\tremaining: 10.1s\n",
            "750:\tlearn: 0.2343926\ttotal: 25.5s\tremaining: 8.44s\n",
            "800:\tlearn: 0.2317220\ttotal: 27.3s\tremaining: 6.77s\n",
            "850:\tlearn: 0.2290463\ttotal: 29s\tremaining: 5.09s\n",
            "900:\tlearn: 0.2264105\ttotal: 30.8s\tremaining: 3.39s\n",
            "950:\tlearn: 0.2231285\ttotal: 32.6s\tremaining: 1.68s\n",
            "999:\tlearn: 0.2205427\ttotal: 34.4s\tremaining: 0us\n"
          ],
          "name": "stdout"
        },
        {
          "output_type": "execute_result",
          "data": {
            "text/plain": [
              "<catboost.core.CatBoostClassifier at 0x7f83a05790b8>"
            ]
          },
          "metadata": {
            "tags": []
          },
          "execution_count": 68
        }
      ]
    },
    {
      "cell_type": "markdown",
      "metadata": {
        "id": "yiNgtjeNLgIK"
      },
      "source": [
        "# First submission file"
      ]
    },
    {
      "cell_type": "code",
      "metadata": {
        "colab": {
          "base_uri": "https://localhost:8080/"
        },
        "id": "pXmjFFjNLgIK",
        "outputId": "0c10b4f7-3061-427d-ec25-375fe042d24f"
      },
      "source": [
        "set(test.ID == ss.ID)"
      ],
      "execution_count": 69,
      "outputs": [
        {
          "output_type": "execute_result",
          "data": {
            "text/plain": [
              "{True}"
            ]
          },
          "metadata": {
            "tags": []
          },
          "execution_count": 69
        }
      ]
    },
    {
      "cell_type": "code",
      "metadata": {
        "id": "K-GwBT-ILgIL"
      },
      "source": [
        "prediction = model.predict(test_n)"
      ],
      "execution_count": 71,
      "outputs": []
    },
    {
      "cell_type": "code",
      "metadata": {
        "colab": {
          "base_uri": "https://localhost:8080/",
          "height": 340
        },
        "id": "dDNkC32yLgIL",
        "outputId": "e6194561-8e5c-4158-b0fe-2a75ecff32bf"
      },
      "source": [
        "sns.countplot(prediction)"
      ],
      "execution_count": 72,
      "outputs": [
        {
          "output_type": "stream",
          "text": [
            "/usr/local/lib/python3.6/dist-packages/seaborn/_decorators.py:43: FutureWarning: Pass the following variable as a keyword arg: x. From version 0.12, the only valid positional argument will be `data`, and passing other arguments without an explicit keyword will result in an error or misinterpretation.\n",
            "  FutureWarning\n"
          ],
          "name": "stderr"
        },
        {
          "output_type": "execute_result",
          "data": {
            "text/plain": [
              "<matplotlib.axes._subplots.AxesSubplot at 0x7f8396607358>"
            ]
          },
          "metadata": {
            "tags": []
          },
          "execution_count": 72
        },
        {
          "output_type": "display_data",
          "data": {
            "image/png": "[encoded data removed]",
            "text/plain": [
              "<Figure size 432x288 with 1 Axes>"
            ]
          },
          "metadata": {
            "tags": [],
            "needs_background": "light"
          }
        }
      ]
    },
    {
      "cell_type": "code",
      "metadata": {
        "colab": {
          "base_uri": "https://localhost:8080/",
          "height": 206
        },
        "id": "qiIZ2VtuLgIO",
        "outputId": "dc6be3e8-a310-4b11-c92a-614661dd6a00"
      },
      "source": [
        "ss.head()"
      ],
      "execution_count": 73,
      "outputs": [
        {
          "output_type": "execute_result",
          "data": {
            "text/html": [
              "<div>\n",
              "<style scoped>\n",
              "    .dataframe tbody tr th:only-of-type {\n",
              "        vertical-align: middle;\n",
              "    }\n",
              "\n",
              "    .dataframe tbody tr th {\n",
              "        vertical-align: top;\n",
              "    }\n",
              "\n",
              "    .dataframe thead th {\n",
              "        text-align: right;\n",
              "    }\n",
              "</style>\n",
              "<table border=\"1\" class=\"dataframe\">\n",
              "  <thead>\n",
              "    <tr style=\"text-align: right;\">\n",
              "      <th></th>\n",
              "      <th>ID</th>\n",
              "      <th>target</th>\n",
              "    </tr>\n",
              "  </thead>\n",
              "  <tbody>\n",
              "    <tr>\n",
              "      <th>0</th>\n",
              "      <td>009D84L</td>\n",
              "      <td>0</td>\n",
              "    </tr>\n",
              "    <tr>\n",
              "      <th>1</th>\n",
              "      <td>01DO2EQ</td>\n",
              "      <td>0</td>\n",
              "    </tr>\n",
              "    <tr>\n",
              "      <th>2</th>\n",
              "      <td>01QM0NU</td>\n",
              "      <td>0</td>\n",
              "    </tr>\n",
              "    <tr>\n",
              "      <th>3</th>\n",
              "      <td>024NJLZ</td>\n",
              "      <td>0</td>\n",
              "    </tr>\n",
              "    <tr>\n",
              "      <th>4</th>\n",
              "      <td>02BYET3</td>\n",
              "      <td>0</td>\n",
              "    </tr>\n",
              "  </tbody>\n",
              "</table>\n",
              "</div>"
            ],
            "text/plain": [
              "        ID  target\n",
              "0  009D84L       0\n",
              "1  01DO2EQ       0\n",
              "2  01QM0NU       0\n",
              "3  024NJLZ       0\n",
              "4  02BYET3       0"
            ]
          },
          "metadata": {
            "tags": []
          },
          "execution_count": 73
        }
      ]
    },
    {
      "cell_type": "code",
      "metadata": {
        "id": "rcXlXGlOLgIO"
      },
      "source": [
        "sub_file = ss.copy()"
      ],
      "execution_count": 74,
      "outputs": []
    },
    {
      "cell_type": "code",
      "metadata": {
        "id": "e82cL88-LgIO"
      },
      "source": [
        "sub_file.target = prediction"
      ],
      "execution_count": 75,
      "outputs": []
    },
    {
      "cell_type": "code",
      "metadata": {
        "id": "2NlG2Tl0LgIO"
      },
      "source": [
        "sub_file.to_csv('base_model_pred_file.csv',index=False)"
      ],
      "execution_count": 76,
      "outputs": []
    },
    {
      "cell_type": "markdown",
      "metadata": {
        "id": "-3hRv3axLgIO"
      },
      "source": [
        "# Improving on model performance tips"
      ]
    },
    {
      "cell_type": "markdown",
      "metadata": {
        "id": "GYcZbo8BLgIO"
      },
      "source": [
        "- Deep EDA and domain knowledge sourcing\n",
        "- Re-group Categorical features \n",
        "- Feature Engineering \n",
        "- Dataset balancing\n",
        "- Hyperparameter tunning with gridsearch\n",
        "- Ensembling of models \n",
        "- Cross-validation to avoid over fitting and under-fitting"
      ]
    },
    {
      "cell_type": "markdown",
      "metadata": {
        "id": "t6N2799kLgIO"
      },
      "source": [
        "# ******************* GOOD LUCK!!! ***************************"
      ]
    }
  ]
}